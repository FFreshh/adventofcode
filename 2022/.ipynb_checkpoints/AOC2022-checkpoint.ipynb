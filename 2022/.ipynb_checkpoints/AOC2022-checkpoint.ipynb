{
 "cells": [
  {
   "cell_type": "markdown",
   "id": "c0696161",
   "metadata": {},
   "source": [
    "# Day 1"
   ]
  },
  {
   "cell_type": "code",
   "execution_count": 37,
   "id": "12699632",
   "metadata": {},
   "outputs": [],
   "source": [
    "data = open('day1.txt', 'r').read().split('\\n')"
   ]
  },
  {
   "cell_type": "code",
   "execution_count": 22,
   "id": "9c57eba3",
   "metadata": {},
   "outputs": [
    {
     "data": {
      "text/plain": [
       "69281"
      ]
     },
     "execution_count": 22,
     "metadata": {},
     "output_type": "execute_result"
    }
   ],
   "source": [
    "most_calories = 0\n",
    "temp = 0\n",
    "for i in data:\n",
    "    if i != '':\n",
    "        temp += int(i)\n",
    "    else:\n",
    "        if temp > most_calories:\n",
    "            most_calories = temp\n",
    "            temp = 0\n",
    "        temp = 0\n",
    "\n",
    "most_calories"
   ]
  },
  {
   "cell_type": "code",
   "execution_count": 63,
   "id": "c83863aa",
   "metadata": {},
   "outputs": [
    {
     "data": {
      "text/plain": [
       "201524"
      ]
     },
     "execution_count": 63,
     "metadata": {},
     "output_type": "execute_result"
    }
   ],
   "source": [
    "temp = 0\n",
    "top1,top2,top3 = 0,0,0,\n",
    "for i in data:\n",
    "    if i != '':\n",
    "        temp += int(i)\n",
    "    else:\n",
    "        if temp > top1:\n",
    "            top3 = top2\n",
    "            top2 = top1\n",
    "            top1 = temp\n",
    "        elif temp > top2:\n",
    "            top3 = top2\n",
    "            top2 = temp\n",
    "        elif temp > top3:\n",
    "            top3 = temp\n",
    "        temp = 0\n",
    "\n",
    "total_calories = sum([top1,top2,top3])\n",
    "total_calories"
   ]
  },
  {
   "cell_type": "markdown",
   "id": "b4da51f2",
   "metadata": {},
   "source": [
    "# Day 2"
   ]
  },
  {
   "cell_type": "code",
   "execution_count": 6,
   "id": "448aed78",
   "metadata": {},
   "outputs": [],
   "source": [
    "data = open('day2.txt', 'r').read().split('\\n')"
   ]
  },
  {
   "cell_type": "code",
   "execution_count": 13,
   "id": "b5901461",
   "metadata": {},
   "outputs": [],
   "source": [
    "hand = {'A':'rock','B':'paper','C':'scissors',\n",
    "        'X':'rock','Y':'paper','Z':'scissors'}"
   ]
  },
  {
   "cell_type": "code",
   "execution_count": 17,
   "id": "f3598f69",
   "metadata": {},
   "outputs": [
    {
     "data": {
      "text/plain": [
       "11150"
      ]
     },
     "execution_count": 17,
     "metadata": {},
     "output_type": "execute_result"
    }
   ],
   "source": [
    "score = 0\n",
    "for i in data:\n",
    "    if hand[i[0]] == hand[i[-1]]:\n",
    "        score += 3\n",
    "    if i[-1] == 'X':\n",
    "        score += 1\n",
    "    if i[-1] == 'Y':\n",
    "        score += 2\n",
    "    if i[-1] == 'Z':\n",
    "        score += 3\n",
    "    if i[0] == 'A' and i[-1] == 'Y':\n",
    "        score += 6\n",
    "    if i[0] == 'A' and i[-1] == 'Z':\n",
    "        score += 0\n",
    "    if i[0] == 'B' and i[-1] == 'X':\n",
    "        score += 0\n",
    "    if i[0] == 'B' and i[-1] == 'Z':\n",
    "        score += 6\n",
    "    if i[0] == 'C' and i[-1] == 'X':\n",
    "        score += 6\n",
    "    if i[0] == 'C' and i[-1] == 'Y':\n",
    "        score += 0\n",
    "score"
   ]
  },
  {
   "cell_type": "code",
   "execution_count": 21,
   "id": "b98d2ab4",
   "metadata": {},
   "outputs": [],
   "source": [
    "hand = {'A':'rock','B':'paper','C':'scissors',\n",
    "        'X':'lose','Y':'draw','Z':'win'}"
   ]
  },
  {
   "cell_type": "code",
   "execution_count": 26,
   "id": "8ef538f7",
   "metadata": {},
   "outputs": [
    {
     "data": {
      "text/plain": [
       "8295"
      ]
     },
     "execution_count": 26,
     "metadata": {},
     "output_type": "execute_result"
    }
   ],
   "source": [
    "score = 0\n",
    "for i in data:\n",
    "    if hand[i[-1]] == 'lose' and hand[i[0]] == 'rock':\n",
    "        score += 3\n",
    "    if hand[i[-1]] == 'lose' and hand[i[0]] == 'paper':\n",
    "        score += 1\n",
    "    if hand[i[-1]] == 'lose' and hand[i[0]] == 'scissors':\n",
    "        score += 2\n",
    "    if hand[i[-1]] == 'draw' and hand[i[0]] == 'rock':\n",
    "        score += 4\n",
    "    if hand[i[-1]] == 'draw' and hand[i[0]] == 'paper':\n",
    "        score += 5\n",
    "    if hand[i[-1]] == 'draw' and hand[i[0]] == 'scissors':\n",
    "        score += 6\n",
    "    if hand[i[-1]] == 'win' and hand[i[0]] == 'rock':\n",
    "        score += 8\n",
    "    if hand[i[-1]] == 'win' and hand[i[0]] == 'paper':\n",
    "        score += 9\n",
    "    if hand[i[-1]] == 'win' and hand[i[0]] == 'scissors':\n",
    "        score += 7\n",
    "score"
   ]
  },
  {
   "cell_type": "markdown",
   "id": "26413d35",
   "metadata": {},
   "source": [
    "## Nikolakis"
   ]
  },
  {
   "cell_type": "code",
   "execution_count": 1,
   "id": "1c5ab60f",
   "metadata": {},
   "outputs": [
    {
     "data": {
      "text/plain": [
       "['A Z', 'A Y', 'B X', 'B X', 'C X', 'B X', 'A X', 'A X', 'C X', 'A X']"
      ]
     },
     "execution_count": 1,
     "metadata": {},
     "output_type": "execute_result"
    }
   ],
   "source": [
    "data = open('day2.txt', 'r').read().split('\\n')\n",
    "data[:10]"
   ]
  },
  {
   "cell_type": "code",
   "execution_count": 16,
   "id": "c1001599",
   "metadata": {},
   "outputs": [
    {
     "data": {
      "text/plain": [
       "11150"
      ]
     },
     "execution_count": 16,
     "metadata": {},
     "output_type": "execute_result"
    }
   ],
   "source": [
    "score = 0\n",
    "hands = {'A X':4,'A Y':8,'A Z':3,'B X':1,'B Y':5,'B Z':9,'C X':7,'C Y':2,'C Z':6}\n",
    "\n",
    "for i in data:\n",
    "    score += hands[i]\n",
    "    \n",
    "score"
   ]
  },
  {
   "cell_type": "code",
   "execution_count": 17,
   "id": "316b6ca9",
   "metadata": {},
   "outputs": [
    {
     "data": {
      "text/plain": [
       "8295"
      ]
     },
     "execution_count": 17,
     "metadata": {},
     "output_type": "execute_result"
    }
   ],
   "source": [
    "score = 0\n",
    "hands = {'A X':3,'A Y':4,'A Z':8,'B X':1,'B Y':5,'B Z':9,'C X':2,'C Y':6,'C Z':7}\n",
    "\n",
    "for i in data:\n",
    "    score += hands[i]\n",
    "    \n",
    "score"
   ]
  },
  {
   "cell_type": "markdown",
   "id": "b11cad3f",
   "metadata": {},
   "source": [
    "# Day 3"
   ]
  },
  {
   "cell_type": "code",
   "execution_count": 1,
   "id": "00f0d48d",
   "metadata": {},
   "outputs": [],
   "source": [
    "data = open('day3.txt', 'r').read().split('\\n')"
   ]
  },
  {
   "cell_type": "code",
   "execution_count": 2,
   "id": "99a5d972",
   "metadata": {
    "scrolled": true
   },
   "outputs": [
    {
     "data": {
      "text/plain": [
       "7817"
      ]
     },
     "execution_count": 2,
     "metadata": {},
     "output_type": "execute_result"
    }
   ],
   "source": [
    "import string\n",
    "\n",
    "letter = list(string.ascii_lowercase)\n",
    "letter_count = [i for i in range(1,27)]\n",
    "alphabet = dict(zip(letter, letter_count))\n",
    "priorities_sum = 0\n",
    "\n",
    "for i in data:\n",
    "    \n",
    "    leni = int(len(i)/2)\n",
    "    firsthalf = i[:(leni)]\n",
    "    secondhalf = i[leni:]\n",
    "    common = ''\n",
    "    \n",
    "    for letter in firsthalf:\n",
    "        if letter in secondhalf:\n",
    "            common += letter\n",
    "            break\n",
    "            \n",
    "    if common.isupper():\n",
    "        priorities_sum += alphabet[common[0].lower()]+26\n",
    "    else:\n",
    "        priorities_sum += alphabet[common[0].lower()]\n",
    "\n",
    "priorities_sum"
   ]
  },
  {
   "cell_type": "code",
   "execution_count": 88,
   "id": "d2e9d856",
   "metadata": {
    "scrolled": false
   },
   "outputs": [
    {
     "data": {
      "text/plain": [
       "2444"
      ]
     },
     "execution_count": 88,
     "metadata": {},
     "output_type": "execute_result"
    }
   ],
   "source": [
    "priorities_sum = 0\n",
    "\n",
    "for i in range(0,len(data)-1,3):\n",
    "    first_string = data[i]\n",
    "    second_string = data[i+1]\n",
    "    third_string = data[i+2]\n",
    "    common = ''\n",
    "    \n",
    "    for letter in first_string:\n",
    "        if letter in second_string and letter in third_string:\n",
    "            common += letter\n",
    "            break\n",
    "            \n",
    "    if common.isupper():\n",
    "        priorities_sum += alphabet[common.lower()]+26\n",
    "    else:\n",
    "        priorities_sum += alphabet[common.lower()]\n",
    "\n",
    "priorities_sum"
   ]
  },
  {
   "cell_type": "markdown",
   "id": "a0622ad9",
   "metadata": {},
   "source": [
    "# Day 4"
   ]
  },
  {
   "cell_type": "code",
   "execution_count": 1,
   "id": "03a2b541",
   "metadata": {},
   "outputs": [],
   "source": [
    "data = open('day4.txt', 'r').read().split('\\n')"
   ]
  },
  {
   "cell_type": "code",
   "execution_count": 84,
   "id": "77a07b1a",
   "metadata": {
    "scrolled": false
   },
   "outputs": [
    {
     "data": {
      "text/plain": [
       "[81, 95]"
      ]
     },
     "execution_count": 84,
     "metadata": {},
     "output_type": "execute_result"
    }
   ],
   "source": [
    "section_group_1"
   ]
  },
  {
   "cell_type": "code",
   "execution_count": 87,
   "id": "ca581ef4",
   "metadata": {},
   "outputs": [
    {
     "data": {
      "text/plain": [
       "[96, 99]"
      ]
     },
     "execution_count": 87,
     "metadata": {},
     "output_type": "execute_result"
    }
   ],
   "source": [
    "section_group_2"
   ]
  },
  {
   "cell_type": "code",
   "execution_count": 91,
   "id": "cfd2a55c",
   "metadata": {},
   "outputs": [
    {
     "data": {
      "text/plain": [
       "305"
      ]
     },
     "execution_count": 91,
     "metadata": {},
     "output_type": "execute_result"
    }
   ],
   "source": [
    "redundant_pairs = 0\n",
    "for i in data:\n",
    "    initial_split = i.split(',')\n",
    "    section_group_1 = []\n",
    "    section_group_2 = []\n",
    "    for i in initial_split:\n",
    "        if section_group_1 == []:\n",
    "            section_group_1.append(int(i.split('-')[0]))\n",
    "            section_group_1.append(int(i.split('-')[1]))\n",
    "        else:\n",
    "            section_group_2.append(int(i.split('-')[0]))\n",
    "            section_group_2.append(int(i.split('-')[1]))\n",
    "\n",
    "    biggerpair = 2\n",
    "    if section_group_1[1]-section_group_1[0] > section_group_2[1]-section_group_2[0]:\n",
    "        biggerpair = 1\n",
    "\n",
    "    if biggerpair == 1:\n",
    "        if section_group_2[0] in list(range(section_group_1[0],section_group_1[1]+1)) and \\\n",
    "        section_group_2[1] in list(range(section_group_1[0],section_group_1[1]+1)):\n",
    "            redundant_pairs +=1\n",
    "    if biggerpair == 2:\n",
    "        if section_group_1[0] in list(range(section_group_2[0],section_group_2[1]+1)) and \\\n",
    "        section_group_1[1] in list(range(section_group_2[0],section_group_2[1]+1)):\n",
    "            redundant_pairs +=1\n",
    "            \n",
    "redundant_pairs"
   ]
  },
  {
   "cell_type": "code",
   "execution_count": 33,
   "id": "8d039851",
   "metadata": {},
   "outputs": [
    {
     "data": {
      "text/plain": [
       "811"
      ]
     },
     "execution_count": 33,
     "metadata": {},
     "output_type": "execute_result"
    }
   ],
   "source": [
    "overlapping_pair = 0\n",
    "for i in data:\n",
    "    initial_split = i.split(',')\n",
    "    section_group_1 = []\n",
    "    section_group_2 = []\n",
    "    for i in initial_split:\n",
    "        if section_group_1 == []:\n",
    "            section_group_1.append(int(i.split('-')[0]))\n",
    "            section_group_1.append(int(i.split('-')[1]))\n",
    "        else:\n",
    "            section_group_2.append(int(i.split('-')[0]))\n",
    "            section_group_2.append(int(i.split('-')[1]))\n",
    "\n",
    "    biggerpair = 2\n",
    "    if section_group_1[1]-section_group_1[0] > section_group_2[1]-section_group_2[0]:\n",
    "        biggerpair = 1\n",
    "\n",
    "    if biggerpair == 1:\n",
    "        if section_group_2[0] in list(range(section_group_1[0],section_group_1[1]+1)) or section_group_2[1] in list(range(section_group_1[0],section_group_1[1]+1)):\n",
    "            overlapping_pair +=1\n",
    "    if biggerpair == 2:\n",
    "        if section_group_1[0] in list(range(section_group_2[0],section_group_2[1]+1)) or section_group_1[1] in list(range(section_group_2[0],section_group_2[1]+1)):\n",
    "            overlapping_pair +=1\n",
    "            \n",
    "overlapping_pair"
   ]
  },
  {
   "cell_type": "markdown",
   "id": "98d94134",
   "metadata": {},
   "source": [
    "## Nikolakis"
   ]
  },
  {
   "cell_type": "code",
   "execution_count": 78,
   "id": "c540d7e1",
   "metadata": {},
   "outputs": [
    {
     "data": {
      "text/plain": [
       "['14-28,13-28',\n",
       " '72-81,82-91',\n",
       " '4-4,6-95',\n",
       " '47-49,48-59',\n",
       " '26-36,37-76',\n",
       " '2-99,98-99',\n",
       " '26-36,19-35',\n",
       " '85-85,13-84',\n",
       " '14-94,15-95',\n",
       " '26-89,16-27']"
      ]
     },
     "execution_count": 78,
     "metadata": {},
     "output_type": "execute_result"
    }
   ],
   "source": [
    "data = open('day4.txt', 'r').read().split('\\n')\n",
    "data[:10]"
   ]
  },
  {
   "cell_type": "code",
   "execution_count": 79,
   "id": "d11124f8",
   "metadata": {},
   "outputs": [],
   "source": [
    "def zubzub(x,y):\n",
    "    for i in y:\n",
    "        if i in x:\n",
    "            continue\n",
    "        else: \n",
    "            for i in x:\n",
    "                if i in y:\n",
    "                    continue\n",
    "                else: \n",
    "                    return False\n",
    "            return True\n",
    "    return True"
   ]
  },
  {
   "cell_type": "code",
   "execution_count": 80,
   "id": "8649ae6b",
   "metadata": {
    "scrolled": false
   },
   "outputs": [
    {
     "data": {
      "text/plain": [
       "305"
      ]
     },
     "execution_count": 80,
     "metadata": {},
     "output_type": "execute_result"
    }
   ],
   "source": [
    "total = 0\n",
    "for i in data:\n",
    "    i = i.split(',')\n",
    "    x = i[0].split('-')\n",
    "    y = i[1].split('-')\n",
    "    x = [i for i in range(int(x[0]),int(x[1])+1)]\n",
    "    y = [i for i in range(int(y[0]),int(y[1])+1)]\n",
    "\n",
    "    if zubzub(x,y):\n",
    "        total += 1\n",
    "total"
   ]
  },
  {
   "cell_type": "code",
   "execution_count": 92,
   "id": "bc3c9307",
   "metadata": {},
   "outputs": [],
   "source": [
    "def zubzub(x,y):\n",
    "    for i in y:\n",
    "        if i in x:\n",
    "            return True\n",
    "        else: \n",
    "            for i in x:\n",
    "                if i in y:\n",
    "                    return True\n",
    "                else: return False"
   ]
  },
  {
   "cell_type": "code",
   "execution_count": 93,
   "id": "12340471",
   "metadata": {
    "scrolled": false
   },
   "outputs": [
    {
     "data": {
      "text/plain": [
       "811"
      ]
     },
     "execution_count": 93,
     "metadata": {},
     "output_type": "execute_result"
    }
   ],
   "source": [
    "total = 0\n",
    "for i in data:\n",
    "    i = i.split(',')\n",
    "    x = i[0].split('-')\n",
    "    y = i[1].split('-')\n",
    "    x = [i for i in range(int(x[0]),int(x[1])+1)]\n",
    "    y = [i for i in range(int(y[0]),int(y[1])+1)]\n",
    "\n",
    "    if zubzub(x,y):\n",
    "        total += 1\n",
    "total"
   ]
  },
  {
   "cell_type": "markdown",
   "id": "0eb24fa2",
   "metadata": {},
   "source": [
    "# Day 5"
   ]
  },
  {
   "cell_type": "code",
   "execution_count": 1,
   "id": "640f92d9",
   "metadata": {},
   "outputs": [],
   "source": [
    "data = open('day5.txt', 'r').read().split('\\n')"
   ]
  },
  {
   "cell_type": "code",
   "execution_count": 15,
   "id": "2965199e",
   "metadata": {
    "scrolled": true
   },
   "outputs": [
    {
     "data": {
      "text/plain": [
       "['                [M]     [V]     [L]',\n",
       " '[G]             [V] [C] [G]     [D]',\n",
       " '[J]             [Q] [W] [Z] [C] [J]',\n",
       " '[W]         [W] [G] [V] [D] [G] [C]',\n",
       " '[R]     [G] [N] [B] [D] [C] [M] [W]',\n",
       " '[F] [M] [H] [C] [S] [T] [N] [N] [N]',\n",
       " '[T] [W] [N] [R] [F] [R] [B] [J] [P]',\n",
       " '[Z] [G] [J] [J] [W] [S] [H] [S] [G]',\n",
       " ' 1   2   3   4   5   6   7   8   9 ',\n",
       " '']"
      ]
     },
     "execution_count": 15,
     "metadata": {},
     "output_type": "execute_result"
    }
   ],
   "source": [
    "data[:10]"
   ]
  },
  {
   "cell_type": "code",
   "execution_count": 100,
   "id": "cbcb1c28",
   "metadata": {},
   "outputs": [],
   "source": [
    "stack1 = ['G','J','W','R','F','T','Z']\n",
    "stack2 = ['M','W','G']\n",
    "stack3 = ['G','H','N','J']\n",
    "stack4 = ['W','N','C','R','J']\n",
    "stack5 = ['M','V','Q','G','B','S','F','W']\n",
    "stack6 = ['C','W','V','D','T','R','S']\n",
    "stack7 = ['V','G','Z','D','C','N','B','H']\n",
    "stack8 = ['C','G','M','N','J','S']\n",
    "stack9 = ['L','D','J','C','W','N','P','G']"
   ]
  },
  {
   "cell_type": "code",
   "execution_count": 124,
   "id": "c3937d58",
   "metadata": {
    "scrolled": false
   },
   "outputs": [
    {
     "data": {
      "text/plain": [
       "[('1', '5', '2'),\n",
       " ('7', '7', '1'),\n",
       " ('1', '1', '7'),\n",
       " ('1', '4', '1'),\n",
       " ('7', '9', '1')]"
      ]
     },
     "execution_count": 124,
     "metadata": {},
     "output_type": "execute_result"
    }
   ],
   "source": [
    "import re\n",
    "\n",
    "instructions = list(zip(*[iter(re.findall(r'(\\d+)', '\\n'.join(data[10:])))]*3))\n",
    "instructions[:5]"
   ]
  },
  {
   "cell_type": "code",
   "execution_count": 102,
   "id": "d61aee01",
   "metadata": {},
   "outputs": [
    {
     "data": {
      "text/plain": [
       "'CWMTGHBDW'"
      ]
     },
     "execution_count": 102,
     "metadata": {},
     "output_type": "execute_result"
    }
   ],
   "source": [
    "for i in instructions:\n",
    "    amount = int(i[0])\n",
    "    source = locals()[\"stack\"+i[1]]\n",
    "    destination = locals()[\"stack\"+i[2]]\n",
    "    \n",
    "    while amount != 0:\n",
    "        temp = source[0]\n",
    "        source.pop(0)\n",
    "        destination.insert(0,temp)\n",
    "        amount -= 1\n",
    "        \n",
    "result = []\n",
    "for i in range(1,10):\n",
    "    result.append(locals()[\"stack\"+str(i)][0])\n",
    "''.join(result)"
   ]
  },
  {
   "cell_type": "code",
   "execution_count": 125,
   "id": "f7e65bdf",
   "metadata": {},
   "outputs": [],
   "source": [
    "stack1 = ['G','J','W','R','F','T','Z']\n",
    "stack2 = ['M','W','G']\n",
    "stack3 = ['G','H','N','J']\n",
    "stack4 = ['W','N','C','R','J']\n",
    "stack5 = ['M','V','Q','G','B','S','F','W']\n",
    "stack6 = ['C','W','V','D','T','R','S']\n",
    "stack7 = ['V','G','Z','D','C','N','B','H']\n",
    "stack8 = ['C','G','M','N','J','S']\n",
    "stack9 = ['L','D','J','C','W','N','P','G']"
   ]
  },
  {
   "cell_type": "code",
   "execution_count": 126,
   "id": "3c206a60",
   "metadata": {},
   "outputs": [
    {
     "data": {
      "text/plain": [
       "'SSCGWJCRB'"
      ]
     },
     "execution_count": 126,
     "metadata": {},
     "output_type": "execute_result"
    }
   ],
   "source": [
    "for i in instructions:\n",
    "    amount = int(i[0])\n",
    "    source = locals()[\"stack\"+i[1]]\n",
    "    destination = locals()[\"stack\"+i[2]]\n",
    "    \n",
    "    locals()[\"stack\"+i[2]] = source[:amount] + destination\n",
    "    locals()[\"stack\"+i[1]] = source[amount:]\n",
    "    \n",
    "result = []\n",
    "for i in range(1,10):\n",
    "    result.append(locals()[\"stack\"+str(i)][0])\n",
    "''.join(result)"
   ]
  },
  {
   "cell_type": "code",
   "execution_count": 119,
   "id": "25ab5da7",
   "metadata": {
    "scrolled": true
   },
   "outputs": [
    {
     "data": {
      "text/plain": [
       "[('1', '2', '1'), ('3', '1', '3'), ('2', '2', '1'), ('1', '1', '2')]"
      ]
     },
     "execution_count": 119,
     "metadata": {},
     "output_type": "execute_result"
    }
   ],
   "source": [
    "test1 = ['N', 'Z']\n",
    "test2 = ['D','C','M']\n",
    "test3 = ['P']\n",
    "instructions = 'move 1 from 2 to 1 move 3 from 1 to 3 move 2 from 2 to 1 move 1 from 1 to 2'\n",
    "instructions = list(zip(*[iter(re.findall(r'(\\d+)', instructions))]*3))\n",
    "instructions[:5]"
   ]
  },
  {
   "cell_type": "markdown",
   "id": "65315249",
   "metadata": {},
   "source": [
    "## Nikolakis"
   ]
  },
  {
   "cell_type": "code",
   "execution_count": 256,
   "id": "6b3fc69b",
   "metadata": {
    "scrolled": true
   },
   "outputs": [
    {
     "data": {
      "text/plain": [
       "['                [M]     [V]     [L]',\n",
       " '[G]             [V] [C] [G]     [D]',\n",
       " '[J]             [Q] [W] [Z] [C] [J]',\n",
       " '[W]         [W] [G] [V] [D] [G] [C]',\n",
       " '[R]     [G] [N] [B] [D] [C] [M] [W]',\n",
       " '[F] [M] [H] [C] [S] [T] [N] [N] [N]',\n",
       " '[T] [W] [N] [R] [F] [R] [B] [J] [P]',\n",
       " '[Z] [G] [J] [J] [W] [S] [H] [S] [G]',\n",
       " ' 1   2   3   4   5   6   7   8   9 ',\n",
       " '']"
      ]
     },
     "execution_count": 256,
     "metadata": {},
     "output_type": "execute_result"
    }
   ],
   "source": [
    "data = open('day5.txt', 'r').read().split('\\n')\n",
    "data[:10]"
   ]
  },
  {
   "cell_type": "code",
   "execution_count": 292,
   "id": "8cd0a504",
   "metadata": {},
   "outputs": [],
   "source": [
    "instructions = data[10:]\n",
    "stack1 = ['G','J','W','R','F','T','Z']\n",
    "stack2 = ['M','W','G']\n",
    "stack3 = ['G','H','N','J']\n",
    "stack4 = ['W','N','C','R','J']\n",
    "stack5 = ['M','V','Q','G','B','S','F','W']\n",
    "stack6 = ['C','W','V','D','T','R','S']\n",
    "stack7 = ['V','G','Z','D','C','N','B','H']\n",
    "stack8 = ['C','G','M','N','J','S']\n",
    "stack9 = ['L','D','J','C','W','N','P','G']"
   ]
  },
  {
   "cell_type": "code",
   "execution_count": 193,
   "id": "f20d98f5",
   "metadata": {},
   "outputs": [],
   "source": [
    "import re\n",
    "\n",
    "zoob = list(zip(*[iter(re.findall(r'(\\d+)', '\\n'.join(data[10:])))]*3))\n",
    "\n",
    "\n",
    "for i in zoob:\n",
    "#for i in instructions:\n",
    "    digits = int(i[0]),int(i[1]),int(i[2])\n",
    "    #index = len(locals()['stack'+str(digits[1])]),len(locals()['stack'+str(digits[2])])\n",
    "    \n",
    "    index = digits[0]\n",
    "    while index > 0:\n",
    "        letter_to_add = locals()['stack'+str(digits[1])][0]\n",
    "        destination = locals()['stack'+str(digits[2])]\n",
    "        source = locals()['stack'+str(digits[1])]\n",
    "        destination.insert(0,letter_to_add)\n",
    "        source.pop(0)\n",
    "        index -= 1\n",
    "\n",
    "result = []\n",
    "for zub in range(1,10):\n",
    "    result.append(locals()['stack'+str(zub)][0])\n",
    "''.join(result)"
   ]
  },
  {
   "cell_type": "code",
   "execution_count": 293,
   "id": "afcdfe1d",
   "metadata": {},
   "outputs": [
    {
     "data": {
      "text/plain": [
       "'SSCGWJCRB'"
      ]
     },
     "execution_count": 293,
     "metadata": {},
     "output_type": "execute_result"
    }
   ],
   "source": [
    "import re\n",
    "\n",
    "zoob = list(zip(*[iter(re.findall(r'(\\d+)', '\\n'.join(data[10:])))]*3))\n",
    "\n",
    "\n",
    "for i in zoob:\n",
    "#for i in instructions:\n",
    "    digits = int(i[0]),int(i[1]),int(i[2])\n",
    "    #index = len(locals()['stack'+str(digits[1])]),len(locals()['stack'+str(digits[2])])\n",
    "    \n",
    "#     index = digits[0]\n",
    "#     while index > 0:\n",
    "    letters_to_add = locals()['stack'+str(digits[1])][0:digits[0]]\n",
    "    destination = locals()['stack'+str(digits[2])]\n",
    "    source = locals()['stack'+str(digits[1])]\n",
    "\n",
    "    locals()['stack'+str(digits[2])] = letters_to_add + destination \n",
    "    locals()['stack'+str(digits[1])] = source[digits[0]:]\n",
    "#         index -= 1\n",
    "\n",
    "result = []\n",
    "for zub in range(1,10):\n",
    "    result.append(locals()['stack'+str(zub)][0])\n",
    "''.join(result)"
   ]
  },
  {
   "cell_type": "markdown",
   "id": "e03bf2f1",
   "metadata": {},
   "source": [
    "# Day 6"
   ]
  },
  {
   "cell_type": "code",
   "execution_count": 3,
   "id": "fbc054d5",
   "metadata": {},
   "outputs": [],
   "source": [
    "data = open('day6.txt', 'r').read().split('\\n')\n",
    "data = data[0]"
   ]
  },
  {
   "cell_type": "code",
   "execution_count": 22,
   "id": "aab92269",
   "metadata": {
    "scrolled": true
   },
   "outputs": [
    {
     "name": "stdout",
     "output_type": "stream",
     "text": [
      "pwmb\n"
     ]
    },
    {
     "data": {
      "text/plain": [
       "1109"
      ]
     },
     "execution_count": 22,
     "metadata": {},
     "output_type": "execute_result"
    }
   ],
   "source": [
    "test = 'bvwbjplbgvbhsrlpgdmjqwftvncz'\n",
    "result = 0\n",
    "for i in range(len(data)):\n",
    "    if len(set(data[i:i+4])) == len(data[i:i+4]):\n",
    "        result += i+4\n",
    "        print(data[i:i+4])\n",
    "        break\n",
    "    \n",
    "result"
   ]
  },
  {
   "cell_type": "code",
   "execution_count": 23,
   "id": "bdfabe2c",
   "metadata": {
    "scrolled": true
   },
   "outputs": [
    {
     "data": {
      "text/plain": [
       "3965"
      ]
     },
     "execution_count": 23,
     "metadata": {},
     "output_type": "execute_result"
    }
   ],
   "source": [
    "result = 0\n",
    "for i in range(len(data)):\n",
    "    if len(set(data[i:i+14])) == len(data[i:i+14]):\n",
    "        result += i+14\n",
    "        break\n",
    "    \n",
    "result"
   ]
  },
  {
   "cell_type": "markdown",
   "id": "ffbce35b",
   "metadata": {},
   "source": [
    "# Day 7"
   ]
  },
  {
   "cell_type": "code",
   "execution_count": 4,
   "id": "52da8c40",
   "metadata": {},
   "outputs": [],
   "source": [
    "data = open('day7.txt', 'r').read().split('\\n')"
   ]
  },
  {
   "cell_type": "code",
   "execution_count": 5,
   "id": "cca9ccd6",
   "metadata": {},
   "outputs": [
    {
     "data": {
      "text/plain": [
       "'clnvqg'"
      ]
     },
     "execution_count": 5,
     "metadata": {},
     "output_type": "execute_result"
    }
   ],
   "source": [
    "data[3].split(' ')[1]"
   ]
  },
  {
   "cell_type": "code",
   "execution_count": 6,
   "id": "39aaff68",
   "metadata": {
    "scrolled": true
   },
   "outputs": [
    {
     "data": {
      "text/plain": [
       "['$ cd /',\n",
       " '$ ls',\n",
       " 'dir brhvclj',\n",
       " 'dir clnvqg',\n",
       " 'dir dtqtvvrn',\n",
       " 'dir lcz',\n",
       " 'dir pcqjncwl',\n",
       " 'dir qwvfpgl',\n",
       " 'dir rtmj',\n",
       " 'dir shg',\n",
       " 'dir tcdmgwp',\n",
       " '$ cd brhvclj']"
      ]
     },
     "execution_count": 6,
     "metadata": {},
     "output_type": "execute_result"
    }
   ],
   "source": [
    "data[:12]"
   ]
  },
  {
   "cell_type": "code",
   "execution_count": 7,
   "id": "de58c6a4",
   "metadata": {
    "scrolled": false
   },
   "outputs": [
    {
     "data": {
      "text/plain": [
       "['brhvclj',\n",
       " 'clnvqg',\n",
       " 'dtqtvvrn',\n",
       " 'lcz',\n",
       " 'pcqjncwl',\n",
       " 'qwvfpgl',\n",
       " 'rtmj',\n",
       " 'shg',\n",
       " 'tcdmgwp']"
      ]
     },
     "execution_count": 7,
     "metadata": {},
     "output_type": "execute_result"
    }
   ],
   "source": [
    "#root_directories = {data[i].split(' ')[1]:{} for i in range(2,11)}\n",
    "root_directories = [i.split(' ')[1] for i in data[2:11]]\n",
    "root_directories"
   ]
  },
  {
   "cell_type": "code",
   "execution_count": 8,
   "id": "b35d1a35",
   "metadata": {},
   "outputs": [
    {
     "data": {
      "text/plain": [
       "['$ cd brhvclj',\n",
       " '$ ls',\n",
       " '40016 mtlscfrd.gdr',\n",
       " 'dir mvslzl',\n",
       " '112449 npp.vjv',\n",
       " '46674 pbgjwb',\n",
       " 'dir qdtls',\n",
       " 'dir tfns',\n",
       " '$ cd mvslzl',\n",
       " '$ ls']"
      ]
     },
     "execution_count": 8,
     "metadata": {},
     "output_type": "execute_result"
    }
   ],
   "source": [
    "rest = data[11:]\n",
    "rest[:10]"
   ]
  },
  {
   "cell_type": "code",
   "execution_count": 9,
   "id": "6142eda1",
   "metadata": {},
   "outputs": [
    {
     "data": {
      "text/plain": [
       "['brhvclj',\n",
       " 'clnvqg',\n",
       " 'dtqtvvrn',\n",
       " 'lcz',\n",
       " 'pcqjncwl',\n",
       " 'qwvfpgl',\n",
       " 'rtmj',\n",
       " 'shg',\n",
       " 'tcdmgwp']"
      ]
     },
     "execution_count": 9,
     "metadata": {},
     "output_type": "execute_result"
    }
   ],
   "source": [
    "rest[0].split(' ')[2]\n",
    "root_directories"
   ]
  },
  {
   "cell_type": "code",
   "execution_count": null,
   "id": "b317022e",
   "metadata": {
    "scrolled": true
   },
   "outputs": [],
   "source": [
    "for i in rest:\n",
    "    current_instruction = i.split(' ')\n",
    "    if current_instruction[0] == '$':\n",
    "        if current_inst[1] == 'cd':\n",
    "            if current_inst[2] == '..':\n",
    "                pass\n",
    "            else:\n",
    "                dictpath = root_directories[current_inst[2]]\n",
    "#         if current_inst[1] == 'ls':\n",
    "#             continue\n",
    "    if current_inst[0] == 'dir':\n",
    "        dictpath[current_inst[1]] = {}\n",
    "    else: int(current_inst[0])"
   ]
  },
  {
   "cell_type": "code",
   "execution_count": null,
   "id": "23dbe060",
   "metadata": {},
   "outputs": [],
   "source": []
  },
  {
   "cell_type": "code",
   "execution_count": null,
   "id": "bb8244e4",
   "metadata": {
    "scrolled": false
   },
   "outputs": [],
   "source": [
    "root_directories[rest[0].split(' ')[2]]['test'] = '1'\n",
    "root_directories"
   ]
  },
  {
   "cell_type": "code",
   "execution_count": null,
   "id": "4ae6b790",
   "metadata": {},
   "outputs": [],
   "source": [
    "for i in rest:\n",
    "    current_inst = i.split(' ')\n",
    "    if current_inst[0] == '$':\n",
    "        if current_inst[1] == 'cd':\n",
    "            if current_inst[2] == '..':\n",
    "                pass\n",
    "            else:\n",
    "                dictpath = root_directories[current_inst[2]]\n",
    "#         if current_inst[1] == 'ls':\n",
    "#             continue\n",
    "    if current_inst[0] == 'dir':\n",
    "        dictpath[current_inst[1]] = {}\n",
    "    else: int(current_inst[0])\n",
    "    "
   ]
  },
  {
   "cell_type": "code",
   "execution_count": 14,
   "id": "bcbc5871",
   "metadata": {},
   "outputs": [],
   "source": [
    "import re"
   ]
  },
  {
   "cell_type": "code",
   "execution_count": 15,
   "id": "d0c81343",
   "metadata": {},
   "outputs": [
    {
     "data": {
      "text/plain": [
       "42143088"
      ]
     },
     "execution_count": 15,
     "metadata": {},
     "output_type": "execute_result"
    }
   ],
   "source": [
    "regexdata = ' '.join(data)\n",
    "total_size = re.findall(r'(\\d+)', regexdata)\n",
    "total_size = [int(i) for i in total_size]\n",
    "total_size = sum(total_size)\n",
    "total_size"
   ]
  },
  {
   "cell_type": "markdown",
   "id": "fc5ac37e",
   "metadata": {},
   "source": [
    "# Day 8"
   ]
  },
  {
   "cell_type": "code",
   "execution_count": 16,
   "id": "6eef9407",
   "metadata": {},
   "outputs": [],
   "source": [
    "data = open('day8.txt', 'r').read().split('\\n')"
   ]
  },
  {
   "cell_type": "code",
   "execution_count": 17,
   "id": "8c7bec4f",
   "metadata": {},
   "outputs": [],
   "source": [
    "import numpy as np"
   ]
  },
  {
   "cell_type": "code",
   "execution_count": 18,
   "id": "dcdf36eb",
   "metadata": {},
   "outputs": [],
   "source": [
    "data = [[j for j in i] for i in data]\n",
    "data = np.array(data)"
   ]
  },
  {
   "cell_type": "code",
   "execution_count": 19,
   "id": "8a888b21",
   "metadata": {},
   "outputs": [
    {
     "data": {
      "text/plain": [
       "array(['1', '2', '1', '2', '0', '0', '2', '0', '0', '3', '2', '2', '2',\n",
       "       '2', '0', '0', '2', '2', '4', '2', '1', '2', '1', '4', '0', '0',\n",
       "       '3', '0', '2', '3', '0', '1', '3', '4', '4', '1', '4', '1', '2',\n",
       "       '1', '1', '3', '1', '3', '4', '5', '1', '3', '4', '3', '1', '2',\n",
       "       '4', '2', '2', '1', '5', '2', '4', '3', '2', '4', '5', '2', '4',\n",
       "       '1', '2', '2', '3', '1', '1', '1', '1', '0', '0', '2', '3', '1',\n",
       "       '4', '4', '1', '3', '3', '3', '0', '1', '0', '1', '1', '0', '3',\n",
       "       '2', '3', '1', '1', '0', '1', '1', '0'], dtype='<U1')"
      ]
     },
     "execution_count": 19,
     "metadata": {},
     "output_type": "execute_result"
    }
   ],
   "source": [
    "data[-1]"
   ]
  },
  {
   "cell_type": "code",
   "execution_count": 20,
   "id": "6cf2f1ac",
   "metadata": {},
   "outputs": [],
   "source": [
    "center_trees = data[1:-1,1:-1]"
   ]
  },
  {
   "cell_type": "code",
   "execution_count": 22,
   "id": "c91007a7",
   "metadata": {},
   "outputs": [],
   "source": [
    "test = [[3,0,3,7,3],\n",
    "        [2,5,5,1,2],\n",
    "        [6,5,3,3,2],\n",
    "        [3,3,5,4,9],\n",
    "        [3,5,3,9,0]]\n",
    "test = np.array(test)"
   ]
  },
  {
   "cell_type": "code",
   "execution_count": 23,
   "id": "2b69bd1b",
   "metadata": {},
   "outputs": [],
   "source": [
    "nbrr = len(test[:,1])\n",
    "nbrc = len(test[1,:])"
   ]
  },
  {
   "cell_type": "code",
   "execution_count": 24,
   "id": "95c96fdf",
   "metadata": {
    "scrolled": false
   },
   "outputs": [
    {
     "name": "stdout",
     "output_type": "stream",
     "text": [
      "0 0\n",
      "0 1\n",
      "0 2\n",
      "0 3\n",
      "0 4\n",
      "1 0\n",
      "1 4\n",
      "2 0\n",
      "2 4\n",
      "3 0\n",
      "3 4\n",
      "4 0\n",
      "4 1\n",
      "4 2\n",
      "4 3\n",
      "4 4\n"
     ]
    },
    {
     "data": {
      "text/plain": [
       "16"
      ]
     },
     "execution_count": 24,
     "metadata": {},
     "output_type": "execute_result"
    }
   ],
   "source": [
    "visible = 0\n",
    "for i in range(nbrr):\n",
    "    for j in range(nbrc):\n",
    "#         print(i,j)\n",
    "        if i == 0 or i == nbrr-1 or j == 0 or j == nbrc-1:\n",
    "            print(i,j)\n",
    "            visible += 1\n",
    "        if i > 0 and i < nbrr and j > 0 and j < nbrc:\n",
    "            tempi = i\n",
    "            tempj = j\n",
    "            \n",
    "#         if i > 0 and i < nbrr and j > 0 and j < nbrc:\n",
    "#             if \n",
    "visible"
   ]
  },
  {
   "cell_type": "code",
   "execution_count": 28,
   "id": "832a46b5",
   "metadata": {},
   "outputs": [
    {
     "name": "stdout",
     "output_type": "stream",
     "text": [
      "1812\n"
     ]
    }
   ],
   "source": [
    "import numpy as np\n",
    "with open(\"day8.txt\") as f:\n",
    "    inp = np.array([[ y for y in x.strip()] for x in f.readlines()]).astype(int)\n",
    "\n",
    "# start with border = true, all internal = false\n",
    "visibility = np.full(inp.shape,True)\n",
    "visibility[1:-1,1:-1] = False\n",
    "\n",
    "for i in range(1,inp.shape[0]-1):\n",
    "    for j in range(1,inp.shape[1]-1):\n",
    "        if all(inp[i,:j] < inp[i,j]):\n",
    "            visibility[i,j] = True\n",
    "        elif all(inp[:i,j] < inp[i,j]):\n",
    "            visibility[i,j] = True\n",
    "        elif all(inp[i+1:,j] < inp[i,j]):\n",
    "            visibility[i,j] = True\n",
    "        elif all(inp[i,j+1:] < inp[i,j]):\n",
    "            visibility[i,j] = True\n",
    "        \n",
    "print(sum(sum(visibility)))"
   ]
  },
  {
   "cell_type": "code",
   "execution_count": 29,
   "id": "b061fa8c",
   "metadata": {},
   "outputs": [
    {
     "name": "stdout",
     "output_type": "stream",
     "text": [
      "part 1: 1812\n"
     ]
    }
   ],
   "source": [
    "with open('day8.txt') as data:\n",
    "    inputs = [line.strip() for line in data.readlines()]\n",
    "\n",
    "import pandas as pd\n",
    "for i_ in range(len(inputs)):\n",
    "    inputs[i_] = [c_ for c_ in inputs[i_]]\n",
    "data = pd.DataFrame(inputs)\n",
    "cols_len = data.describe()[0][0]\n",
    "rows_len = len(data.iloc[0,:])\n",
    "visible_edge = (cols_len + rows_len - 2) * 2\n",
    "\n",
    "def is_visible(i_, j_):\n",
    "    cell_value = data.iloc[i_][j_]\n",
    "    return (max(data.iloc[0:i_][j_]) < cell_value\n",
    "            or max(data.iloc[i_ + 1:][j_]) < cell_value\n",
    "            or max(data.iloc[i_][0:j_]) < cell_value\n",
    "            or max(data.iloc[i_][j_ + 1:]) < cell_value)\n",
    "\n",
    "print(f\"part 1: {visible_edge + sum([1 for i_ in range(1, rows_len - 1)for j_ in range(1, cols_len - 1) if is_visible(i_, j_)])}\")"
   ]
  },
  {
   "cell_type": "code",
   "execution_count": 31,
   "id": "8ecbd306",
   "metadata": {},
   "outputs": [
    {
     "name": "stdout",
     "output_type": "stream",
     "text": [
      "result part 1:  1812.0\n",
      "result part 2:  315495.0\n"
     ]
    }
   ],
   "source": [
    "import numpy as np\n",
    "\n",
    "with open('day8.txt') as data:\n",
    "        inputs = [line.strip() for line in data.readlines()]\n",
    "        \n",
    "for i,v in enumerate(inputs):\n",
    "    inputs[i] = list(map(int,[*inputs[i]]))\n",
    "\n",
    "y=np.array(inputs)\n",
    "\n",
    "result_part1 = np.zeros(y.shape)\n",
    "\n",
    "for idx, x in np.ndenumerate(y[:,:]):\n",
    "    \n",
    "    if idx[0] == 0 or idx[0] == (y.shape[0]-1) or idx[1] ==0 or idx[1] == (y.shape[1]-1) :\n",
    "        result_part1[idx[0],idx[1]]=True\n",
    "    else:\n",
    "        row = y[idx[0],:] \n",
    "        row_position = idx[1]\n",
    "        \n",
    "        columns = y[:,idx[1]]\n",
    "        columns_position = idx[0]\n",
    "        \n",
    "        result_part1[idx[0],idx[1]] = max(row[:idx[1]])<x or max(row[idx[1]+1:])<x or max(columns[:idx[0]])<x or max(columns[idx[0]+1:])<x\n",
    "        #print(idx, x, 'row =', y[idx[0],:], 'columns =',y[:,idx[1]], 'result = ',result_part1[idx[0],idx[1]])\n",
    "        \n",
    "print(\"result part 1: \", np.sum(result_part1))\n",
    "\n",
    "result_part2 = np.zeros(y.shape)\n",
    "\n",
    "for idx, x in np.ndenumerate(y[:,:]):\n",
    "    left, right, up, down = 0, 0, 0, 0\n",
    "        \n",
    "    row = y[idx[0],:] \n",
    "    row_position = idx[1]\n",
    "\n",
    "    columns = y[:,idx[1]]\n",
    "    columns_position = idx[0]\n",
    "        \n",
    "    for tree in np.flip(row[:idx[1]]):\n",
    "        left+=1\n",
    "        if tree >= x:\n",
    "            break \n",
    "            \n",
    "    for tree in row[idx[1]+1:]:\n",
    "        right+=1\n",
    "        if tree >= x:\n",
    "            break \n",
    "\n",
    "    for tree in np.flip(columns[:idx[0]]):\n",
    "        up+=1\n",
    "        if tree >= x:\n",
    "            break \n",
    "\n",
    "    for tree in columns[idx[0]+1:]:\n",
    "        down+=1\n",
    "        if tree >= x:\n",
    "            break \n",
    "\n",
    "    result_part2[idx[0],idx[1]] = left*right*up*down\n",
    "    #print(idx, x, 'row =', y[idx[0],:], 'columns =',y[:,idx[1]], \"........\",np.flip(row[:idx[1]]),x,row[idx[1]+1:],\"/\",np.flip(columns[:idx[0]]),x,columns[idx[0]+1:],  'result = ', result_part2[idx[0],idx[1]])\n",
    "    \n",
    "print(\"result part 2: \",np.max(result_part2))"
   ]
  },
  {
   "cell_type": "markdown",
   "id": "6cafda3b",
   "metadata": {},
   "source": [
    "# Day 9"
   ]
  },
  {
   "cell_type": "code",
   "execution_count": 1,
   "id": "a5b0336d",
   "metadata": {},
   "outputs": [
    {
     "data": {
      "text/plain": [
       "['L 1', 'R 1', 'L 1', 'U 1', 'R 2', 'U 1', 'D 2', 'R 2', 'U 1', 'D 2']"
      ]
     },
     "execution_count": 1,
     "metadata": {},
     "output_type": "execute_result"
    }
   ],
   "source": [
    "data = open('day9.txt', 'r').read().split('\\n')\n",
    "data[:10]"
   ]
  },
  {
   "cell_type": "code",
   "execution_count": 32,
   "id": "37af003d",
   "metadata": {},
   "outputs": [
    {
     "data": {
      "text/plain": [
       "5960"
      ]
     },
     "execution_count": 32,
     "metadata": {},
     "output_type": "execute_result"
    }
   ],
   "source": [
    "from math import copysign\n",
    "locs = [(0, 0, 0, 0)]\n",
    "[\n",
    "    locs := \n",
    "    locs + \n",
    "    [\n",
    "        (\n",
    "            locs[-1][0] + ((ord(l.split()[0]) - 80) % 2 != 1) * int(copysign(1, ord(l.split()[0]) - 80)),\n",
    "            locs[-1][1] + ((ord(l.split()[0]) - 80) % 2 == 1) * int(copysign(1, ord(l.split()[0]) - 80)),\n",
    "            locs[-1][2] + int(copysign(1, locs[-1][0] + ((ord(l.split()[0]) - 80) % 2 != 1) * int(copysign(1, ord(l.split()[0]) - 80)) - locs[-1][2]))\n",
    "            if abs(locs[-1][0] + ((ord(l.split()[0]) - 80) % 2 != 1) * int(copysign(1, ord(l.split()[0]) - 80)) - locs[-1][2]) * abs(locs[-1][1] + ((ord(l.split()[0]) - 80) % 2 == 1) * int(copysign(1, ord(l.split()[0]) - 80)) - locs[-1][3]) > 1\n",
    "            else locs[-1][2]\n",
    "            if abs(locs[-1][0] + ((ord(l.split()[0]) - 80) % 2 != 1) * int(copysign(1, ord(l.split()[0]) - 80)) - locs[-1][2]) * abs(locs[-1][1] + ((ord(l.split()[0]) - 80) % 2 == 1) * int(copysign(1, ord(l.split()[0]) - 80)) - locs[-1][3]) == 1 or abs(locs[-1][0] + ((ord(l.split()[0]) - 80) % 2 != 1) * int(copysign(1, ord(l.split()[0]) - 80)) - locs[-1][2]) + abs(locs[-1][1] + ((ord(l.split()[0]) - 80) % 2 == 1) * int(copysign(1, ord(l.split()[0]) - 80)) - locs[-1][3]) <= 1\n",
    "            else locs[-1][2] + ((ord(l.split()[0]) - 80) % 2 != 1) * int(copysign(1, ord(l.split()[0]) - 80)),\n",
    "            locs[-1][3] + int(copysign(1, locs[-1][1] + ((ord(l.split()[0]) - 80) % 2 == 1) * int(copysign(1, ord(l.split()[0]) - 80)) - locs[-1][3]))\n",
    "            if abs(locs[-1][0] + ((ord(l.split()[0]) - 80) % 2 != 1) * int(copysign(1, ord(l.split()[0]) - 80)) - locs[-1][2]) * abs(locs[-1][1] + ((ord(l.split()[0]) - 80) % 2 == 1) * int(copysign(1, ord(l.split()[0]) - 80)) - locs[-1][3]) > 1\n",
    "            else locs[-1][3]\n",
    "            if abs(locs[-1][0] + ((ord(l.split()[0]) - 80) % 2 != 1) * int(copysign(1, ord(l.split()[0]) - 80)) - locs[-1][2]) * abs(locs[-1][1] + ((ord(l.split()[0]) - 80) % 2 == 1) * int(copysign(1, ord(l.split()[0]) - 80)) - locs[-1][3]) == 1 or abs(locs[-1][0] + ((ord(l.split()[0]) - 80) % 2 != 1) * int(copysign(1, ord(l.split()[0]) - 80)) - locs[-1][2]) + abs(locs[-1][1] + ((ord(l.split()[0]) - 80) % 2 == 1) * int(copysign(1, ord(l.split()[0]) - 80)) - locs[-1][3]) <= 1\n",
    "            else locs[-1][3] + ((ord(l.split()[0]) - 80) % 2 == 1) * int(copysign(1, ord(l.split()[0]) - 80))\n",
    "        )\n",
    "    ]\n",
    "    for l in open(\"day9.txt\").read().replace(\"D\", \"C\").strip().splitlines() \n",
    "    for m in range(int(l.split()[1]))\n",
    "]\n",
    "len(set([loc[2:] for loc in locs]))"
   ]
  },
  {
   "cell_type": "code",
   "execution_count": 33,
   "id": "2693248d",
   "metadata": {},
   "outputs": [
    {
     "name": "stdout",
     "output_type": "stream",
     "text": [
      "Part 1: 5960\n",
      "Part 2: 2327\n"
     ]
    }
   ],
   "source": [
    "from collections import defaultdict\n",
    "\n",
    "filename = 'day9.txt'\n",
    "#filename = 'inputs/test.txt'\n",
    "\n",
    "with open(filename) as f:\n",
    "    lines = [line.rstrip().split(' ') for line in f]\n",
    "\n",
    "\n",
    "def move_head(direction, c_pos):\n",
    "    # Moves the head knot in the indicated direction 1 step\n",
    "    d_map = {'R': [1, 0],\n",
    "             'L': [-1, 0],\n",
    "             'U': [0, -1],\n",
    "             'D': [0, 1]}\n",
    "    # Zip allows me to add the 2 arrays together\n",
    "    # For example if direction is 'L' and c_pos is (3, 3) then the result is (2, 3)\n",
    "    return tuple([position + increase for position, increase in zip(c_pos, d_map[direction])])\n",
    "\n",
    "\n",
    "def move_tail(t_pos, h_pos):\n",
    "    # Determines whether tail (t_pos) is no longer adjacent to head (h_pos)\n",
    "    # then moves the tail towards the head if necessary\n",
    "\n",
    "    # y - x for each x and y in t_pos and h_pos\n",
    "    p_difference = [y - x for x, y in zip(t_pos, h_pos)]\n",
    "    if max([abs(p) for p in p_difference]) <= 1:\n",
    "        return t_pos\n",
    "    move_direction = []\n",
    "    # tail can only move 1 step so we'll get the direction of the move by\n",
    "    # dividing the difference by the absolute value of itself.\n",
    "    for p in p_difference:\n",
    "        if p == 0:  # can't divide by zero!\n",
    "            move_direction.append(0)\n",
    "        else:\n",
    "            move_direction.append(p//abs(p))\n",
    "    return tuple([current + increase for current, increase in zip(t_pos, move_direction)])\n",
    "\n",
    "\n",
    "def solve(num_knots):\n",
    "    moves = []\n",
    "    knot_list = [(0, 0) for _ in range(num_knots)]\n",
    "    tail_visited = defaultdict(int)\n",
    "    tail_visited[knot_list[-1]] = 1  # Last item in knot list is the tail\n",
    "\n",
    "    for this_line in lines:\n",
    "        moves.append([this_line[0], int(this_line[1])])  # R 17\n",
    "\n",
    "    # Approach: Move the head 1 step in given direction, then loop thru each\n",
    "    # knot in the tail and move them if necessary. Repeat for the total steps.\n",
    "    # If the last knot has changed position, update the tail_visited dictionary.\n",
    "    for this_move in moves:\n",
    "        move_dir, total_steps = this_move\n",
    "        for _ in range(total_steps):\n",
    "            knot_list[0] = move_head(move_dir, knot_list[0])\n",
    "            for i in range(1, num_knots):\n",
    "                # Move each tail relative to the knot ahead of it in the list\n",
    "                new_knot_position = move_tail(knot_list[i], knot_list[i-1])\n",
    "                if new_knot_position != knot_list[i]:\n",
    "                    knot_list[i] = new_knot_position\n",
    "                    if i == num_knots - 1:\n",
    "                        tail_visited[knot_list[i]] += 1\n",
    "    return len(tail_visited)\n",
    "\n",
    "\n",
    "print(f\"Part 1: {solve(2)}\")\n",
    "print(f\"Part 2: {solve(10)}\")"
   ]
  },
  {
   "cell_type": "markdown",
   "id": "665c068b",
   "metadata": {},
   "source": [
    "# Day 10"
   ]
  },
  {
   "cell_type": "code",
   "execution_count": null,
   "id": "a3e9c24d",
   "metadata": {},
   "outputs": [],
   "source": []
  },
  {
   "cell_type": "markdown",
   "id": "42e4915c",
   "metadata": {},
   "source": [
    "# Day 11"
   ]
  },
  {
   "cell_type": "code",
   "execution_count": null,
   "id": "09393308",
   "metadata": {},
   "outputs": [],
   "source": []
  }
 ],
 "metadata": {
  "kernelspec": {
   "display_name": "Python 3 (ipykernel)",
   "language": "python",
   "name": "python3"
  },
  "language_info": {
   "codemirror_mode": {
    "name": "ipython",
    "version": 3
   },
   "file_extension": ".py",
   "mimetype": "text/x-python",
   "name": "python",
   "nbconvert_exporter": "python",
   "pygments_lexer": "ipython3",
   "version": "3.8.12"
  },
  "toc": {
   "base_numbering": 1,
   "nav_menu": {},
   "number_sections": true,
   "sideBar": true,
   "skip_h1_title": false,
   "title_cell": "Table of Contents",
   "title_sidebar": "Contents",
   "toc_cell": false,
   "toc_position": {
    "height": "calc(100% - 180px)",
    "left": "10px",
    "top": "150px",
    "width": "273.188px"
   },
   "toc_section_display": true,
   "toc_window_display": false
  }
 },
 "nbformat": 4,
 "nbformat_minor": 5
}
