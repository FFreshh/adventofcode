{
 "cells": [
  {
   "cell_type": "markdown",
   "id": "c0696161",
   "metadata": {
    "heading_collapsed": true
   },
   "source": [
    "# Day 1"
   ]
  },
  {
   "cell_type": "code",
   "execution_count": 37,
   "id": "12699632",
   "metadata": {
    "hidden": true
   },
   "outputs": [],
   "source": [
    "data = open('day1.txt', 'r').read().split('\\n')"
   ]
  },
  {
   "cell_type": "code",
   "execution_count": 22,
   "id": "9c57eba3",
   "metadata": {
    "hidden": true
   },
   "outputs": [
    {
     "data": {
      "text/plain": [
       "69281"
      ]
     },
     "execution_count": 22,
     "metadata": {},
     "output_type": "execute_result"
    }
   ],
   "source": [
    "most_calories = 0\n",
    "temp = 0\n",
    "for i in data:\n",
    "    if i != '':\n",
    "        temp += int(i)\n",
    "    else:\n",
    "        if temp > most_calories:\n",
    "            most_calories = temp\n",
    "            temp = 0\n",
    "        temp = 0\n",
    "\n",
    "most_calories"
   ]
  },
  {
   "cell_type": "code",
   "execution_count": 63,
   "id": "c83863aa",
   "metadata": {
    "hidden": true
   },
   "outputs": [
    {
     "data": {
      "text/plain": [
       "201524"
      ]
     },
     "execution_count": 63,
     "metadata": {},
     "output_type": "execute_result"
    }
   ],
   "source": [
    "temp = 0\n",
    "top1,top2,top3 = 0,0,0,\n",
    "for i in data:\n",
    "    if i != '':\n",
    "        temp += int(i)\n",
    "    else:\n",
    "        if temp > top1:\n",
    "            top3 = top2\n",
    "            top2 = top1\n",
    "            top1 = temp\n",
    "        elif temp > top2:\n",
    "            top3 = top2\n",
    "            top2 = temp\n",
    "        elif temp > top3:\n",
    "            top3 = temp\n",
    "        temp = 0\n",
    "\n",
    "total_calories = sum([top1,top2,top3])\n",
    "total_calories"
   ]
  },
  {
   "cell_type": "markdown",
   "id": "b4da51f2",
   "metadata": {
    "heading_collapsed": true
   },
   "source": [
    "# Day 2"
   ]
  },
  {
   "cell_type": "code",
   "execution_count": 6,
   "id": "448aed78",
   "metadata": {
    "hidden": true
   },
   "outputs": [],
   "source": [
    "data = open('day2.txt', 'r').read().split('\\n')"
   ]
  },
  {
   "cell_type": "code",
   "execution_count": 13,
   "id": "b5901461",
   "metadata": {
    "hidden": true
   },
   "outputs": [],
   "source": [
    "hand = {'A':'rock','B':'paper','C':'scissors',\n",
    "        'X':'rock','Y':'paper','Z':'scissors'}"
   ]
  },
  {
   "cell_type": "code",
   "execution_count": 17,
   "id": "f3598f69",
   "metadata": {
    "hidden": true
   },
   "outputs": [
    {
     "data": {
      "text/plain": [
       "11150"
      ]
     },
     "execution_count": 17,
     "metadata": {},
     "output_type": "execute_result"
    }
   ],
   "source": [
    "score = 0\n",
    "for i in data:\n",
    "    if hand[i[0]] == hand[i[-1]]:\n",
    "        score += 3\n",
    "    if i[-1] == 'X':\n",
    "        score += 1\n",
    "    if i[-1] == 'Y':\n",
    "        score += 2\n",
    "    if i[-1] == 'Z':\n",
    "        score += 3\n",
    "    if i[0] == 'A' and i[-1] == 'Y':\n",
    "        score += 6\n",
    "    if i[0] == 'A' and i[-1] == 'Z':\n",
    "        score += 0\n",
    "    if i[0] == 'B' and i[-1] == 'X':\n",
    "        score += 0\n",
    "    if i[0] == 'B' and i[-1] == 'Z':\n",
    "        score += 6\n",
    "    if i[0] == 'C' and i[-1] == 'X':\n",
    "        score += 6\n",
    "    if i[0] == 'C' and i[-1] == 'Y':\n",
    "        score += 0\n",
    "score"
   ]
  },
  {
   "cell_type": "code",
   "execution_count": 21,
   "id": "b98d2ab4",
   "metadata": {
    "hidden": true
   },
   "outputs": [],
   "source": [
    "hand = {'A':'rock','B':'paper','C':'scissors',\n",
    "        'X':'lose','Y':'draw','Z':'win'}"
   ]
  },
  {
   "cell_type": "code",
   "execution_count": 26,
   "id": "8ef538f7",
   "metadata": {
    "hidden": true
   },
   "outputs": [
    {
     "data": {
      "text/plain": [
       "8295"
      ]
     },
     "execution_count": 26,
     "metadata": {},
     "output_type": "execute_result"
    }
   ],
   "source": [
    "score = 0\n",
    "for i in data:\n",
    "    if hand[i[-1]] == 'lose' and hand[i[0]] == 'rock':\n",
    "        score += 3\n",
    "    if hand[i[-1]] == 'lose' and hand[i[0]] == 'paper':\n",
    "        score += 1\n",
    "    if hand[i[-1]] == 'lose' and hand[i[0]] == 'scissors':\n",
    "        score += 2\n",
    "    if hand[i[-1]] == 'draw' and hand[i[0]] == 'rock':\n",
    "        score += 4\n",
    "    if hand[i[-1]] == 'draw' and hand[i[0]] == 'paper':\n",
    "        score += 5\n",
    "    if hand[i[-1]] == 'draw' and hand[i[0]] == 'scissors':\n",
    "        score += 6\n",
    "    if hand[i[-1]] == 'win' and hand[i[0]] == 'rock':\n",
    "        score += 8\n",
    "    if hand[i[-1]] == 'win' and hand[i[0]] == 'paper':\n",
    "        score += 9\n",
    "    if hand[i[-1]] == 'win' and hand[i[0]] == 'scissors':\n",
    "        score += 7\n",
    "score"
   ]
  },
  {
   "cell_type": "markdown",
   "id": "26413d35",
   "metadata": {
    "hidden": true
   },
   "source": [
    "## Nikolakis"
   ]
  },
  {
   "cell_type": "code",
   "execution_count": 1,
   "id": "1c5ab60f",
   "metadata": {
    "hidden": true
   },
   "outputs": [
    {
     "data": {
      "text/plain": [
       "['A Z', 'A Y', 'B X', 'B X', 'C X', 'B X', 'A X', 'A X', 'C X', 'A X']"
      ]
     },
     "execution_count": 1,
     "metadata": {},
     "output_type": "execute_result"
    }
   ],
   "source": [
    "data = open('day2.txt', 'r').read().split('\\n')\n",
    "data[:10]"
   ]
  },
  {
   "cell_type": "code",
   "execution_count": 16,
   "id": "c1001599",
   "metadata": {
    "hidden": true
   },
   "outputs": [
    {
     "data": {
      "text/plain": [
       "11150"
      ]
     },
     "execution_count": 16,
     "metadata": {},
     "output_type": "execute_result"
    }
   ],
   "source": [
    "score = 0\n",
    "hands = {'A X':4,'A Y':8,'A Z':3,'B X':1,'B Y':5,'B Z':9,'C X':7,'C Y':2,'C Z':6}\n",
    "\n",
    "for i in data:\n",
    "    score += hands[i]\n",
    "    \n",
    "score"
   ]
  },
  {
   "cell_type": "code",
   "execution_count": 17,
   "id": "316b6ca9",
   "metadata": {
    "hidden": true
   },
   "outputs": [
    {
     "data": {
      "text/plain": [
       "8295"
      ]
     },
     "execution_count": 17,
     "metadata": {},
     "output_type": "execute_result"
    }
   ],
   "source": [
    "score = 0\n",
    "hands = {'A X':3,'A Y':4,'A Z':8,'B X':1,'B Y':5,'B Z':9,'C X':2,'C Y':6,'C Z':7}\n",
    "\n",
    "for i in data:\n",
    "    score += hands[i]\n",
    "    \n",
    "score"
   ]
  },
  {
   "cell_type": "markdown",
   "id": "b11cad3f",
   "metadata": {
    "heading_collapsed": true
   },
   "source": [
    "# Day 3"
   ]
  },
  {
   "cell_type": "code",
   "execution_count": 1,
   "id": "00f0d48d",
   "metadata": {
    "hidden": true
   },
   "outputs": [],
   "source": [
    "data = open('day3.txt', 'r').read().split('\\n')"
   ]
  },
  {
   "cell_type": "code",
   "execution_count": 2,
   "id": "99a5d972",
   "metadata": {
    "hidden": true,
    "scrolled": true
   },
   "outputs": [
    {
     "data": {
      "text/plain": [
       "7817"
      ]
     },
     "execution_count": 2,
     "metadata": {},
     "output_type": "execute_result"
    }
   ],
   "source": [
    "import string\n",
    "\n",
    "letter = list(string.ascii_lowercase)\n",
    "letter_count = [i for i in range(1,27)]\n",
    "alphabet = dict(zip(letter, letter_count))\n",
    "priorities_sum = 0\n",
    "\n",
    "for i in data:\n",
    "    \n",
    "    leni = int(len(i)/2)\n",
    "    firsthalf = i[:(leni)]\n",
    "    secondhalf = i[leni:]\n",
    "    common = ''\n",
    "    \n",
    "    for letter in firsthalf:\n",
    "        if letter in secondhalf:\n",
    "            common += letter\n",
    "            break\n",
    "            \n",
    "    if common.isupper():\n",
    "        priorities_sum += alphabet[common[0].lower()]+26\n",
    "    else:\n",
    "        priorities_sum += alphabet[common[0].lower()]\n",
    "\n",
    "priorities_sum"
   ]
  },
  {
   "cell_type": "code",
   "execution_count": 88,
   "id": "d2e9d856",
   "metadata": {
    "hidden": true,
    "scrolled": false
   },
   "outputs": [
    {
     "data": {
      "text/plain": [
       "2444"
      ]
     },
     "execution_count": 88,
     "metadata": {},
     "output_type": "execute_result"
    }
   ],
   "source": [
    "priorities_sum = 0\n",
    "\n",
    "for i in range(0,len(data)-1,3):\n",
    "    first_string = data[i]\n",
    "    second_string = data[i+1]\n",
    "    third_string = data[i+2]\n",
    "    common = ''\n",
    "    \n",
    "    for letter in first_string:\n",
    "        if letter in second_string and letter in third_string:\n",
    "            common += letter\n",
    "            break\n",
    "            \n",
    "    if common.isupper():\n",
    "        priorities_sum += alphabet[common.lower()]+26\n",
    "    else:\n",
    "        priorities_sum += alphabet[common.lower()]\n",
    "\n",
    "priorities_sum"
   ]
  },
  {
   "cell_type": "markdown",
   "id": "a0622ad9",
   "metadata": {
    "heading_collapsed": true
   },
   "source": [
    "# Day 4"
   ]
  },
  {
   "cell_type": "code",
   "execution_count": 1,
   "id": "03a2b541",
   "metadata": {
    "hidden": true
   },
   "outputs": [],
   "source": [
    "data = open('day4.txt', 'r').read().split('\\n')"
   ]
  },
  {
   "cell_type": "code",
   "execution_count": 84,
   "id": "77a07b1a",
   "metadata": {
    "hidden": true,
    "scrolled": false
   },
   "outputs": [
    {
     "data": {
      "text/plain": [
       "[81, 95]"
      ]
     },
     "execution_count": 84,
     "metadata": {},
     "output_type": "execute_result"
    }
   ],
   "source": [
    "section_group_1"
   ]
  },
  {
   "cell_type": "code",
   "execution_count": 87,
   "id": "ca581ef4",
   "metadata": {
    "hidden": true
   },
   "outputs": [
    {
     "data": {
      "text/plain": [
       "[96, 99]"
      ]
     },
     "execution_count": 87,
     "metadata": {},
     "output_type": "execute_result"
    }
   ],
   "source": [
    "section_group_2"
   ]
  },
  {
   "cell_type": "code",
   "execution_count": 91,
   "id": "cfd2a55c",
   "metadata": {
    "hidden": true
   },
   "outputs": [
    {
     "data": {
      "text/plain": [
       "305"
      ]
     },
     "execution_count": 91,
     "metadata": {},
     "output_type": "execute_result"
    }
   ],
   "source": [
    "redundant_pairs = 0\n",
    "for i in data:\n",
    "    initial_split = i.split(',')\n",
    "    section_group_1 = []\n",
    "    section_group_2 = []\n",
    "    for i in initial_split:\n",
    "        if section_group_1 == []:\n",
    "            section_group_1.append(int(i.split('-')[0]))\n",
    "            section_group_1.append(int(i.split('-')[1]))\n",
    "        else:\n",
    "            section_group_2.append(int(i.split('-')[0]))\n",
    "            section_group_2.append(int(i.split('-')[1]))\n",
    "\n",
    "    biggerpair = 2\n",
    "    if section_group_1[1]-section_group_1[0] > section_group_2[1]-section_group_2[0]:\n",
    "        biggerpair = 1\n",
    "\n",
    "    if biggerpair == 1:\n",
    "        if section_group_2[0] in list(range(section_group_1[0],section_group_1[1]+1)) and \\\n",
    "        section_group_2[1] in list(range(section_group_1[0],section_group_1[1]+1)):\n",
    "            redundant_pairs +=1\n",
    "    if biggerpair == 2:\n",
    "        if section_group_1[0] in list(range(section_group_2[0],section_group_2[1]+1)) and \\\n",
    "        section_group_1[1] in list(range(section_group_2[0],section_group_2[1]+1)):\n",
    "            redundant_pairs +=1\n",
    "            \n",
    "redundant_pairs"
   ]
  },
  {
   "cell_type": "code",
   "execution_count": 33,
   "id": "8d039851",
   "metadata": {
    "hidden": true
   },
   "outputs": [
    {
     "data": {
      "text/plain": [
       "811"
      ]
     },
     "execution_count": 33,
     "metadata": {},
     "output_type": "execute_result"
    }
   ],
   "source": [
    "overlapping_pair = 0\n",
    "for i in data:\n",
    "    initial_split = i.split(',')\n",
    "    section_group_1 = []\n",
    "    section_group_2 = []\n",
    "    for i in initial_split:\n",
    "        if section_group_1 == []:\n",
    "            section_group_1.append(int(i.split('-')[0]))\n",
    "            section_group_1.append(int(i.split('-')[1]))\n",
    "        else:\n",
    "            section_group_2.append(int(i.split('-')[0]))\n",
    "            section_group_2.append(int(i.split('-')[1]))\n",
    "\n",
    "    biggerpair = 2\n",
    "    if section_group_1[1]-section_group_1[0] > section_group_2[1]-section_group_2[0]:\n",
    "        biggerpair = 1\n",
    "\n",
    "    if biggerpair == 1:\n",
    "        if section_group_2[0] in list(range(section_group_1[0],section_group_1[1]+1)) or section_group_2[1] in list(range(section_group_1[0],section_group_1[1]+1)):\n",
    "            overlapping_pair +=1\n",
    "    if biggerpair == 2:\n",
    "        if section_group_1[0] in list(range(section_group_2[0],section_group_2[1]+1)) or section_group_1[1] in list(range(section_group_2[0],section_group_2[1]+1)):\n",
    "            overlapping_pair +=1\n",
    "            \n",
    "overlapping_pair"
   ]
  },
  {
   "cell_type": "markdown",
   "id": "98d94134",
   "metadata": {
    "hidden": true
   },
   "source": [
    "## Nikolakis"
   ]
  },
  {
   "cell_type": "code",
   "execution_count": 78,
   "id": "c540d7e1",
   "metadata": {
    "hidden": true
   },
   "outputs": [
    {
     "data": {
      "text/plain": [
       "['14-28,13-28',\n",
       " '72-81,82-91',\n",
       " '4-4,6-95',\n",
       " '47-49,48-59',\n",
       " '26-36,37-76',\n",
       " '2-99,98-99',\n",
       " '26-36,19-35',\n",
       " '85-85,13-84',\n",
       " '14-94,15-95',\n",
       " '26-89,16-27']"
      ]
     },
     "execution_count": 78,
     "metadata": {},
     "output_type": "execute_result"
    }
   ],
   "source": [
    "data = open('day4.txt', 'r').read().split('\\n')\n",
    "data[:10]"
   ]
  },
  {
   "cell_type": "code",
   "execution_count": 79,
   "id": "d11124f8",
   "metadata": {
    "hidden": true
   },
   "outputs": [],
   "source": [
    "def zubzub(x,y):\n",
    "    for i in y:\n",
    "        if i in x:\n",
    "            continue\n",
    "        else: \n",
    "            for i in x:\n",
    "                if i in y:\n",
    "                    continue\n",
    "                else: \n",
    "                    return False\n",
    "            return True\n",
    "    return True"
   ]
  },
  {
   "cell_type": "code",
   "execution_count": 80,
   "id": "8649ae6b",
   "metadata": {
    "hidden": true,
    "scrolled": false
   },
   "outputs": [
    {
     "data": {
      "text/plain": [
       "305"
      ]
     },
     "execution_count": 80,
     "metadata": {},
     "output_type": "execute_result"
    }
   ],
   "source": [
    "total = 0\n",
    "for i in data:\n",
    "    i = i.split(',')\n",
    "    x = i[0].split('-')\n",
    "    y = i[1].split('-')\n",
    "    x = [i for i in range(int(x[0]),int(x[1])+1)]\n",
    "    y = [i for i in range(int(y[0]),int(y[1])+1)]\n",
    "\n",
    "    if zubzub(x,y):\n",
    "        total += 1\n",
    "total"
   ]
  },
  {
   "cell_type": "code",
   "execution_count": 92,
   "id": "bc3c9307",
   "metadata": {
    "hidden": true
   },
   "outputs": [],
   "source": [
    "def zubzub(x,y):\n",
    "    for i in y:\n",
    "        if i in x:\n",
    "            return True\n",
    "        else: \n",
    "            for i in x:\n",
    "                if i in y:\n",
    "                    return True\n",
    "                else: return False"
   ]
  },
  {
   "cell_type": "code",
   "execution_count": 93,
   "id": "12340471",
   "metadata": {
    "hidden": true,
    "scrolled": false
   },
   "outputs": [
    {
     "data": {
      "text/plain": [
       "811"
      ]
     },
     "execution_count": 93,
     "metadata": {},
     "output_type": "execute_result"
    }
   ],
   "source": [
    "total = 0\n",
    "for i in data:\n",
    "    i = i.split(',')\n",
    "    x = i[0].split('-')\n",
    "    y = i[1].split('-')\n",
    "    x = [i for i in range(int(x[0]),int(x[1])+1)]\n",
    "    y = [i for i in range(int(y[0]),int(y[1])+1)]\n",
    "\n",
    "    if zubzub(x,y):\n",
    "        total += 1\n",
    "total"
   ]
  },
  {
   "cell_type": "markdown",
   "id": "0eb24fa2",
   "metadata": {
    "heading_collapsed": true
   },
   "source": [
    "# Day 5"
   ]
  },
  {
   "cell_type": "code",
   "execution_count": 1,
   "id": "640f92d9",
   "metadata": {
    "hidden": true
   },
   "outputs": [],
   "source": [
    "data = open('day5.txt', 'r').read().split('\\n')"
   ]
  },
  {
   "cell_type": "code",
   "execution_count": 15,
   "id": "2965199e",
   "metadata": {
    "hidden": true,
    "scrolled": true
   },
   "outputs": [
    {
     "data": {
      "text/plain": [
       "['                [M]     [V]     [L]',\n",
       " '[G]             [V] [C] [G]     [D]',\n",
       " '[J]             [Q] [W] [Z] [C] [J]',\n",
       " '[W]         [W] [G] [V] [D] [G] [C]',\n",
       " '[R]     [G] [N] [B] [D] [C] [M] [W]',\n",
       " '[F] [M] [H] [C] [S] [T] [N] [N] [N]',\n",
       " '[T] [W] [N] [R] [F] [R] [B] [J] [P]',\n",
       " '[Z] [G] [J] [J] [W] [S] [H] [S] [G]',\n",
       " ' 1   2   3   4   5   6   7   8   9 ',\n",
       " '']"
      ]
     },
     "execution_count": 15,
     "metadata": {},
     "output_type": "execute_result"
    }
   ],
   "source": [
    "data[:10]"
   ]
  },
  {
   "cell_type": "code",
   "execution_count": 100,
   "id": "cbcb1c28",
   "metadata": {
    "hidden": true
   },
   "outputs": [],
   "source": [
    "stack1 = ['G','J','W','R','F','T','Z']\n",
    "stack2 = ['M','W','G']\n",
    "stack3 = ['G','H','N','J']\n",
    "stack4 = ['W','N','C','R','J']\n",
    "stack5 = ['M','V','Q','G','B','S','F','W']\n",
    "stack6 = ['C','W','V','D','T','R','S']\n",
    "stack7 = ['V','G','Z','D','C','N','B','H']\n",
    "stack8 = ['C','G','M','N','J','S']\n",
    "stack9 = ['L','D','J','C','W','N','P','G']"
   ]
  },
  {
   "cell_type": "code",
   "execution_count": 124,
   "id": "c3937d58",
   "metadata": {
    "hidden": true,
    "scrolled": false
   },
   "outputs": [
    {
     "data": {
      "text/plain": [
       "[('1', '5', '2'),\n",
       " ('7', '7', '1'),\n",
       " ('1', '1', '7'),\n",
       " ('1', '4', '1'),\n",
       " ('7', '9', '1')]"
      ]
     },
     "execution_count": 124,
     "metadata": {},
     "output_type": "execute_result"
    }
   ],
   "source": [
    "import re\n",
    "\n",
    "instructions = list(zip(*[iter(re.findall(r'(\\d+)', '\\n'.join(data[10:])))]*3))\n",
    "instructions[:5]"
   ]
  },
  {
   "cell_type": "code",
   "execution_count": 102,
   "id": "d61aee01",
   "metadata": {
    "hidden": true
   },
   "outputs": [
    {
     "data": {
      "text/plain": [
       "'CWMTGHBDW'"
      ]
     },
     "execution_count": 102,
     "metadata": {},
     "output_type": "execute_result"
    }
   ],
   "source": [
    "for i in instructions:\n",
    "    amount = int(i[0])\n",
    "    source = locals()[\"stack\"+i[1]]\n",
    "    destination = locals()[\"stack\"+i[2]]\n",
    "    \n",
    "    while amount != 0:\n",
    "        temp = source[0]\n",
    "        source.pop(0)\n",
    "        destination.insert(0,temp)\n",
    "        amount -= 1\n",
    "        \n",
    "result = []\n",
    "for i in range(1,10):\n",
    "    result.append(locals()[\"stack\"+str(i)][0])\n",
    "''.join(result)"
   ]
  },
  {
   "cell_type": "code",
   "execution_count": 125,
   "id": "f7e65bdf",
   "metadata": {
    "hidden": true
   },
   "outputs": [],
   "source": [
    "stack1 = ['G','J','W','R','F','T','Z']\n",
    "stack2 = ['M','W','G']\n",
    "stack3 = ['G','H','N','J']\n",
    "stack4 = ['W','N','C','R','J']\n",
    "stack5 = ['M','V','Q','G','B','S','F','W']\n",
    "stack6 = ['C','W','V','D','T','R','S']\n",
    "stack7 = ['V','G','Z','D','C','N','B','H']\n",
    "stack8 = ['C','G','M','N','J','S']\n",
    "stack9 = ['L','D','J','C','W','N','P','G']"
   ]
  },
  {
   "cell_type": "code",
   "execution_count": 126,
   "id": "3c206a60",
   "metadata": {
    "hidden": true
   },
   "outputs": [
    {
     "data": {
      "text/plain": [
       "'SSCGWJCRB'"
      ]
     },
     "execution_count": 126,
     "metadata": {},
     "output_type": "execute_result"
    }
   ],
   "source": [
    "for i in instructions:\n",
    "    amount = int(i[0])\n",
    "    source = locals()[\"stack\"+i[1]]\n",
    "    destination = locals()[\"stack\"+i[2]]\n",
    "    \n",
    "    locals()[\"stack\"+i[2]] = source[:amount] + destination\n",
    "    locals()[\"stack\"+i[1]] = source[amount:]\n",
    "    \n",
    "result = []\n",
    "for i in range(1,10):\n",
    "    result.append(locals()[\"stack\"+str(i)][0])\n",
    "''.join(result)"
   ]
  },
  {
   "cell_type": "code",
   "execution_count": 119,
   "id": "25ab5da7",
   "metadata": {
    "hidden": true,
    "scrolled": true
   },
   "outputs": [
    {
     "data": {
      "text/plain": [
       "[('1', '2', '1'), ('3', '1', '3'), ('2', '2', '1'), ('1', '1', '2')]"
      ]
     },
     "execution_count": 119,
     "metadata": {},
     "output_type": "execute_result"
    }
   ],
   "source": [
    "test1 = ['N', 'Z']\n",
    "test2 = ['D','C','M']\n",
    "test3 = ['P']\n",
    "instructions = 'move 1 from 2 to 1 move 3 from 1 to 3 move 2 from 2 to 1 move 1 from 1 to 2'\n",
    "instructions = list(zip(*[iter(re.findall(r'(\\d+)', instructions))]*3))\n",
    "instructions[:5]"
   ]
  },
  {
   "cell_type": "markdown",
   "id": "65315249",
   "metadata": {
    "hidden": true
   },
   "source": [
    "## Nikolakis"
   ]
  },
  {
   "cell_type": "code",
   "execution_count": 256,
   "id": "6b3fc69b",
   "metadata": {
    "hidden": true,
    "scrolled": true
   },
   "outputs": [
    {
     "data": {
      "text/plain": [
       "['                [M]     [V]     [L]',\n",
       " '[G]             [V] [C] [G]     [D]',\n",
       " '[J]             [Q] [W] [Z] [C] [J]',\n",
       " '[W]         [W] [G] [V] [D] [G] [C]',\n",
       " '[R]     [G] [N] [B] [D] [C] [M] [W]',\n",
       " '[F] [M] [H] [C] [S] [T] [N] [N] [N]',\n",
       " '[T] [W] [N] [R] [F] [R] [B] [J] [P]',\n",
       " '[Z] [G] [J] [J] [W] [S] [H] [S] [G]',\n",
       " ' 1   2   3   4   5   6   7   8   9 ',\n",
       " '']"
      ]
     },
     "execution_count": 256,
     "metadata": {},
     "output_type": "execute_result"
    }
   ],
   "source": [
    "data = open('day5.txt', 'r').read().split('\\n')\n",
    "data[:10]"
   ]
  },
  {
   "cell_type": "code",
   "execution_count": 292,
   "id": "8cd0a504",
   "metadata": {
    "hidden": true
   },
   "outputs": [],
   "source": [
    "instructions = data[10:]\n",
    "stack1 = ['G','J','W','R','F','T','Z']\n",
    "stack2 = ['M','W','G']\n",
    "stack3 = ['G','H','N','J']\n",
    "stack4 = ['W','N','C','R','J']\n",
    "stack5 = ['M','V','Q','G','B','S','F','W']\n",
    "stack6 = ['C','W','V','D','T','R','S']\n",
    "stack7 = ['V','G','Z','D','C','N','B','H']\n",
    "stack8 = ['C','G','M','N','J','S']\n",
    "stack9 = ['L','D','J','C','W','N','P','G']"
   ]
  },
  {
   "cell_type": "code",
   "execution_count": 193,
   "id": "f20d98f5",
   "metadata": {
    "hidden": true
   },
   "outputs": [],
   "source": [
    "import re\n",
    "\n",
    "zoob = list(zip(*[iter(re.findall(r'(\\d+)', '\\n'.join(data[10:])))]*3))\n",
    "\n",
    "\n",
    "for i in zoob:\n",
    "#for i in instructions:\n",
    "    digits = int(i[0]),int(i[1]),int(i[2])\n",
    "    #index = len(locals()['stack'+str(digits[1])]),len(locals()['stack'+str(digits[2])])\n",
    "    \n",
    "    index = digits[0]\n",
    "    while index > 0:\n",
    "        letter_to_add = locals()['stack'+str(digits[1])][0]\n",
    "        destination = locals()['stack'+str(digits[2])]\n",
    "        source = locals()['stack'+str(digits[1])]\n",
    "        destination.insert(0,letter_to_add)\n",
    "        source.pop(0)\n",
    "        index -= 1\n",
    "\n",
    "result = []\n",
    "for zub in range(1,10):\n",
    "    result.append(locals()['stack'+str(zub)][0])\n",
    "''.join(result)"
   ]
  },
  {
   "cell_type": "code",
   "execution_count": null,
   "id": "86dcf74c",
   "metadata": {
    "hidden": true
   },
   "outputs": [],
   "source": [
    "z[1:4]"
   ]
  },
  {
   "cell_type": "code",
   "execution_count": 293,
   "id": "afcdfe1d",
   "metadata": {
    "hidden": true
   },
   "outputs": [
    {
     "data": {
      "text/plain": [
       "'SSCGWJCRB'"
      ]
     },
     "execution_count": 293,
     "metadata": {},
     "output_type": "execute_result"
    }
   ],
   "source": [
    "import re\n",
    "\n",
    "zoob = list(zip(*[iter(re.findall(r'(\\d+)', '\\n'.join(data[10:])))]*3))\n",
    "\n",
    "\n",
    "for i in zoob:\n",
    "#for i in instructions:\n",
    "    digits = int(i[0]),int(i[1]),int(i[2])\n",
    "    #index = len(locals()['stack'+str(digits[1])]),len(locals()['stack'+str(digits[2])])\n",
    "    \n",
    "#     index = digits[0]\n",
    "#     while index > 0:\n",
    "    letters_to_add = locals()['stack'+str(digits[1])][0:digits[0]]\n",
    "    destination = locals()['stack'+str(digits[2])]\n",
    "    source = locals()['stack'+str(digits[1])]\n",
    "\n",
    "    locals()['stack'+str(digits[2])] = letters_to_add + destination \n",
    "    locals()['stack'+str(digits[1])] = source[digits[0]:]\n",
    "#         index -= 1\n",
    "\n",
    "result = []\n",
    "for zub in range(1,10):\n",
    "    result.append(locals()['stack'+str(zub)][0])\n",
    "''.join(result)"
   ]
  },
  {
   "cell_type": "markdown",
   "id": "e03bf2f1",
   "metadata": {
    "heading_collapsed": true
   },
   "source": [
    "# Day 6"
   ]
  },
  {
   "cell_type": "code",
   "execution_count": 228,
   "id": "fbc054d5",
   "metadata": {
    "hidden": true
   },
   "outputs": [],
   "source": [
    "data = open('day6.txt', 'r').read().split('\\n')"
   ]
  },
  {
   "cell_type": "code",
   "execution_count": 20,
   "id": "eb86fe79",
   "metadata": {
    "hidden": true,
    "scrolled": true
   },
   "outputs": [],
   "source": [
    "data = data[0]"
   ]
  },
  {
   "cell_type": "code",
   "execution_count": 22,
   "id": "aab92269",
   "metadata": {
    "hidden": true,
    "scrolled": true
   },
   "outputs": [
    {
     "name": "stdout",
     "output_type": "stream",
     "text": [
      "pwmb\n"
     ]
    },
    {
     "data": {
      "text/plain": [
       "1109"
      ]
     },
     "execution_count": 22,
     "metadata": {},
     "output_type": "execute_result"
    }
   ],
   "source": [
    "test = 'bvwbjplbgvbhsrlpgdmjqwftvncz'\n",
    "result = 0\n",
    "for i in range(len(data)):\n",
    "    if len(set(data[i:i+4])) == len(data[i:i+4]):\n",
    "        result += i+4\n",
    "        print(data[i:i+4])\n",
    "        break\n",
    "    \n",
    "result"
   ]
  },
  {
   "cell_type": "code",
   "execution_count": 23,
   "id": "bdfabe2c",
   "metadata": {
    "hidden": true,
    "scrolled": true
   },
   "outputs": [
    {
     "data": {
      "text/plain": [
       "3965"
      ]
     },
     "execution_count": 23,
     "metadata": {},
     "output_type": "execute_result"
    }
   ],
   "source": [
    "result = 0\n",
    "for i in range(len(data)):\n",
    "    if len(set(data[i:i+14])) == len(data[i:i+14]):\n",
    "        result += i+14\n",
    "        break\n",
    "    \n",
    "result"
   ]
  },
  {
   "cell_type": "markdown",
   "id": "ffbce35b",
   "metadata": {
    "heading_collapsed": true
   },
   "source": [
    "# Day 7"
   ]
  },
  {
   "cell_type": "code",
   "execution_count": 1,
   "id": "52da8c40",
   "metadata": {
    "hidden": true
   },
   "outputs": [],
   "source": [
    "data = open('day7.txt', 'r').read().split('\\n')"
   ]
  },
  {
   "cell_type": "code",
   "execution_count": 20,
   "id": "cca9ccd6",
   "metadata": {
    "hidden": true
   },
   "outputs": [
    {
     "data": {
      "text/plain": [
       "'clnvqg'"
      ]
     },
     "execution_count": 20,
     "metadata": {},
     "output_type": "execute_result"
    }
   ],
   "source": [
    "data[3].split(' ')[1]"
   ]
  },
  {
   "cell_type": "code",
   "execution_count": 53,
   "id": "e3c26954",
   "metadata": {
    "hidden": true,
    "scrolled": true
   },
   "outputs": [
    {
     "data": {
      "text/plain": [
       "['$ cd /',\n",
       " '$ ls',\n",
       " 'dir brhvclj',\n",
       " 'dir clnvqg',\n",
       " 'dir dtqtvvrn',\n",
       " 'dir lcz',\n",
       " 'dir pcqjncwl',\n",
       " 'dir qwvfpgl',\n",
       " 'dir rtmj',\n",
       " 'dir shg',\n",
       " 'dir tcdmgwp',\n",
       " '$ cd brhvclj',\n",
       " '$ ls',\n",
       " '40016 mtlscfrd.gdr',\n",
       " 'dir mvslzl',\n",
       " '112449 npp.vjv',\n",
       " '46674 pbgjwb',\n",
       " 'dir qdtls',\n",
       " 'dir tfns',\n",
       " '$ cd mvslzl',\n",
       " '$ ls',\n",
       " 'dir dngldfww',\n",
       " 'dir dzplphqw',\n",
       " '$ cd dngldfww',\n",
       " '$ ls',\n",
       " '102218 wcrvztrh.mzb',\n",
       " '$ cd ..',\n",
       " '$ cd dzplphqw',\n",
       " '$ ls',\n",
       " '93724 brhvclj',\n",
       " '169467 cwqwcjc.lgd',\n",
       " '$ cd ..',\n",
       " '$ cd ..',\n",
       " '$ cd qdtls',\n",
       " '$ ls',\n",
       " 'dir nnlzrwgh',\n",
       " 'dir svc',\n",
       " '168425 tcq.lng',\n",
       " '99608 vjrntvbz.sgn',\n",
       " 'dir wshf',\n",
       " 'dir wtmdzgvg',\n",
       " '$ cd nnlzrwgh',\n",
       " '$ ls',\n",
       " '141976 fnb',\n",
       " '$ cd ..',\n",
       " '$ cd svc',\n",
       " '$ ls',\n",
       " '87249 hzrml',\n",
       " '46855 qbmgmmc',\n",
       " '147235 zsbsq.cvq',\n",
       " '$ cd ..',\n",
       " '$ cd wshf',\n",
       " '$ ls',\n",
       " '25072 npp.vjv',\n",
       " '$ cd ..',\n",
       " '$ cd wtmdzgvg',\n",
       " '$ ls',\n",
       " '165660 cfpfdqq.vfd',\n",
       " 'dir dhbrmn',\n",
       " '176203 dscvmj.wpn',\n",
       " 'dir rcdwft',\n",
       " '$ cd dhbrmn',\n",
       " '$ ls',\n",
       " '200474 brhvclj.hcf',\n",
       " '233675 npp.vjv',\n",
       " '218734 ttntt',\n",
       " '$ cd ..',\n",
       " '$ cd rcdwft',\n",
       " '$ ls',\n",
       " 'dir wvfdjv',\n",
       " '$ cd wvfdjv',\n",
       " '$ ls',\n",
       " '104669 mdrr',\n",
       " '$ cd ..',\n",
       " '$ cd ..',\n",
       " '$ cd ..',\n",
       " '$ cd ..',\n",
       " '$ cd tfns',\n",
       " '$ ls',\n",
       " 'dir clnvqg',\n",
       " '15637 mlft.cvp',\n",
       " 'dir pqp',\n",
       " '77675 svc.mqv',\n",
       " 'dir ttntt',\n",
       " 'dir wfcczs',\n",
       " 'dir wshwhzw',\n",
       " '$ cd clnvqg',\n",
       " '$ ls',\n",
       " 'dir brhvclj',\n",
       " '103188 cdfj',\n",
       " '256254 svc',\n",
       " '72302 tndnh.vgg',\n",
       " '$ cd brhvclj',\n",
       " '$ ls',\n",
       " 'dir brhvclj',\n",
       " '$ cd brhvclj',\n",
       " '$ ls',\n",
       " '246966 mlrcgl',\n",
       " '93485 ttntt.ztq',\n",
       " '$ cd ..',\n",
       " '$ cd ..',\n",
       " '$ cd ..',\n",
       " '$ cd pqp',\n",
       " '$ ls',\n",
       " 'dir svc',\n",
       " '206837 ttntt.qpm',\n",
       " '$ cd svc',\n",
       " '$ ls',\n",
       " '202934 bsczwq',\n",
       " '$ cd ..',\n",
       " '$ cd ..',\n",
       " '$ cd ttntt',\n",
       " '$ ls',\n",
       " 'dir dfmgqmvm',\n",
       " '126511 hpdm.ctv',\n",
       " '$ cd dfmgqmvm',\n",
       " '$ ls',\n",
       " 'dir qbms',\n",
       " '201736 wczpvsw.ddr',\n",
       " 'dir wshwhzw',\n",
       " '$ cd qbms',\n",
       " '$ ls',\n",
       " '20046 lvfphhpw.sjv',\n",
       " '186516 pdbtbmf',\n",
       " '149493 svc.dqh',\n",
       " 'dir tdvtcmwz',\n",
       " '$ cd tdvtcmwz',\n",
       " '$ ls',\n",
       " '100584 hpdm.ctv',\n",
       " '$ cd ..',\n",
       " '$ cd ..',\n",
       " '$ cd wshwhzw',\n",
       " '$ ls',\n",
       " '116856 hwvgnwf',\n",
       " '$ cd ..',\n",
       " '$ cd ..',\n",
       " '$ cd ..',\n",
       " '$ cd wfcczs',\n",
       " '$ ls',\n",
       " 'dir rlbnv',\n",
       " '$ cd rlbnv',\n",
       " '$ ls',\n",
       " '55214 ttntt.mnl',\n",
       " '$ cd ..',\n",
       " '$ cd ..',\n",
       " '$ cd wshwhzw',\n",
       " '$ ls',\n",
       " '34867 clnvqg',\n",
       " '$ cd ..',\n",
       " '$ cd ..',\n",
       " '$ cd ..',\n",
       " '$ cd clnvqg',\n",
       " '$ ls',\n",
       " 'dir bchstbpm',\n",
       " 'dir bgbdbr',\n",
       " 'dir clnvqg',\n",
       " '25956 clnvqg.rbr',\n",
       " '60939 gzzpwvzn.zzr',\n",
       " '212583 jjfrh.ttr',\n",
       " 'dir jlsvjcdm',\n",
       " 'dir mzmqr',\n",
       " 'dir rtmg',\n",
       " 'dir tqnmwdl',\n",
       " '$ cd bchstbpm',\n",
       " '$ ls',\n",
       " 'dir sgbwd',\n",
       " 'dir ttntt',\n",
       " '$ cd sgbwd',\n",
       " '$ ls',\n",
       " '267083 clnvqg',\n",
       " '$ cd ..',\n",
       " '$ cd ttntt',\n",
       " '$ ls',\n",
       " '243283 rwcmtrr.nvf',\n",
       " '$ cd ..',\n",
       " '$ cd ..',\n",
       " '$ cd bgbdbr',\n",
       " '$ ls',\n",
       " 'dir jshpz',\n",
       " '$ cd jshpz',\n",
       " '$ ls',\n",
       " 'dir dpnqrg',\n",
       " 'dir gsvwsc',\n",
       " '173172 jjfrh.ttr',\n",
       " '203836 jzm.fcn',\n",
       " '83990 pdbtbmf',\n",
       " '276348 pqcmhzhv.ltv',\n",
       " 'dir ttntt',\n",
       " 'dir wshwhzw',\n",
       " '$ cd dpnqrg',\n",
       " '$ ls',\n",
       " '140379 dvmnw.gmd',\n",
       " '$ cd ..',\n",
       " '$ cd gsvwsc',\n",
       " '$ ls',\n",
       " '84951 pdbtbmf',\n",
       " '$ cd ..',\n",
       " '$ cd ttntt',\n",
       " '$ ls',\n",
       " '149785 brhvclj',\n",
       " 'dir rfcssr',\n",
       " '$ cd rfcssr',\n",
       " '$ ls',\n",
       " '13174 lgwztd.fcm',\n",
       " '$ cd ..',\n",
       " '$ cd ..',\n",
       " '$ cd wshwhzw',\n",
       " '$ ls',\n",
       " '55302 clnvqg.nqz',\n",
       " 'dir cpbh',\n",
       " 'dir mrv',\n",
       " '139006 wshwhzw.chb',\n",
       " 'dir zgtnfm',\n",
       " '$ cd cpbh',\n",
       " '$ ls',\n",
       " '13930 wvnzlj',\n",
       " '$ cd ..',\n",
       " '$ cd mrv',\n",
       " '$ ls',\n",
       " '207468 cqhpvpzf.zjn',\n",
       " 'dir drgcn',\n",
       " '211947 pdbtbmf',\n",
       " 'dir svc',\n",
       " '$ cd drgcn',\n",
       " '$ ls',\n",
       " 'dir brhvclj',\n",
       " '247117 gnrdmjls.tps',\n",
       " '$ cd brhvclj',\n",
       " '$ ls',\n",
       " '162309 hpdm.ctv',\n",
       " '231880 jjfrh.ttr',\n",
       " '$ cd ..',\n",
       " '$ cd ..',\n",
       " '$ cd svc',\n",
       " '$ ls',\n",
       " '270511 cjsh',\n",
       " 'dir ttntt',\n",
       " '$ cd ttntt',\n",
       " '$ ls',\n",
       " '43248 ssrrt.dqr',\n",
       " '$ cd ..',\n",
       " '$ cd ..',\n",
       " '$ cd ..',\n",
       " '$ cd zgtnfm',\n",
       " '$ ls',\n",
       " 'dir vhjtgv',\n",
       " '$ cd vhjtgv',\n",
       " '$ ls',\n",
       " '98550 svc',\n",
       " '$ cd ..',\n",
       " '$ cd ..',\n",
       " '$ cd ..',\n",
       " '$ cd ..',\n",
       " '$ cd ..',\n",
       " '$ cd clnvqg',\n",
       " '$ ls',\n",
       " 'dir gcnc',\n",
       " '141966 nrlptqrq.jtv',\n",
       " '$ cd gcnc',\n",
       " '$ ls',\n",
       " '268141 bqzr',\n",
       " 'dir brhvclj',\n",
       " 'dir cjcpzv',\n",
       " '262869 npp.vjv',\n",
       " '$ cd brhvclj',\n",
       " '$ ls',\n",
       " 'dir qqr',\n",
       " 'dir qwwl',\n",
       " '265677 rcnn',\n",
       " '$ cd qqr',\n",
       " '$ ls',\n",
       " '143274 stpjr',\n",
       " '$ cd ..',\n",
       " '$ cd qwwl',\n",
       " '$ ls',\n",
       " 'dir clnvqg',\n",
       " '213885 mfctzj',\n",
       " '27640 tvp.fqv',\n",
       " '$ cd clnvqg',\n",
       " '$ ls',\n",
       " 'dir brhvclj',\n",
       " 'dir zzhwq',\n",
       " '$ cd brhvclj',\n",
       " '$ ls',\n",
       " '67021 ttntt.fjp',\n",
       " '$ cd ..',\n",
       " '$ cd zzhwq',\n",
       " '$ ls',\n",
       " 'dir gsplfsvm',\n",
       " '$ cd gsplfsvm',\n",
       " '$ ls',\n",
       " '103196 qgjmbn',\n",
       " '$ cd ..',\n",
       " '$ cd ..',\n",
       " '$ cd ..',\n",
       " '$ cd ..',\n",
       " '$ cd ..',\n",
       " '$ cd cjcpzv',\n",
       " '$ ls',\n",
       " '173344 bjpb.tln',\n",
       " '$ cd ..',\n",
       " '$ cd ..',\n",
       " '$ cd ..',\n",
       " '$ cd jlsvjcdm',\n",
       " '$ ls',\n",
       " 'dir bmgbjnbr',\n",
       " 'dir brhvclj',\n",
       " '106074 brhvclj.cwn',\n",
       " '96364 gwgzvwf',\n",
       " '199266 hpdm.ctv',\n",
       " 'dir svc',\n",
       " '168747 tsb.grv',\n",
       " '170407 ttntt',\n",
       " '$ cd bmgbjnbr',\n",
       " '$ ls',\n",
       " 'dir bddbffsf',\n",
       " 'dir brhvclj',\n",
       " '143376 clnvqg',\n",
       " 'dir ddbcvhqr',\n",
       " '199097 flq.rls',\n",
       " '156627 hbjcftfb.vvj',\n",
       " '41970 jjfrh.ttr',\n",
       " 'dir rlj',\n",
       " 'dir svc',\n",
       " 'dir wshwhzw',\n",
       " 'dir zhczqq',\n",
       " '$ cd bddbffsf',\n",
       " '$ ls',\n",
       " '181609 svc.vdv',\n",
       " '$ cd ..',\n",
       " '$ cd brhvclj',\n",
       " '$ ls',\n",
       " 'dir brhvclj',\n",
       " '64387 cdfj',\n",
       " '168933 fhq.lzh',\n",
       " '193119 njrrzm',\n",
       " '129346 svc.tqs',\n",
       " '$ cd brhvclj',\n",
       " '$ ls',\n",
       " 'dir bpgmc',\n",
       " 'dir brhvclj',\n",
       " 'dir nrrpsn',\n",
       " 'dir ttntt',\n",
       " '$ cd bpgmc',\n",
       " '$ ls',\n",
       " '42515 npp.vjv',\n",
       " 'dir wshwhzw',\n",
       " '$ cd wshwhzw',\n",
       " '$ ls',\n",
       " '80221 pdbtbmf',\n",
       " '$ cd ..',\n",
       " '$ cd ..',\n",
       " '$ cd brhvclj',\n",
       " '$ ls',\n",
       " '74083 qfwj',\n",
       " '$ cd ..',\n",
       " '$ cd nrrpsn',\n",
       " '$ ls',\n",
       " '58623 cdfj',\n",
       " '$ cd ..',\n",
       " '$ cd ttntt',\n",
       " '$ ls',\n",
       " '117488 ddd.sbj',\n",
       " '69152 npp.vjv',\n",
       " '$ cd ..',\n",
       " '$ cd ..',\n",
       " '$ cd ..',\n",
       " '$ cd ddbcvhqr',\n",
       " '$ ls',\n",
       " '3037 brhvclj.ngg',\n",
       " 'dir flz',\n",
       " '85361 hhjw.czf',\n",
       " '193196 npp.vjv',\n",
       " 'dir svc',\n",
       " '173507 tmfc',\n",
       " '274216 ttntt.ddw',\n",
       " '$ cd flz',\n",
       " '$ ls',\n",
       " '249582 pdbtbmf',\n",
       " '$ cd ..',\n",
       " '$ cd svc',\n",
       " '$ ls',\n",
       " 'dir ddrthl',\n",
       " 'dir dptjfd',\n",
       " 'dir hqncdcdh',\n",
       " '$ cd ddrthl',\n",
       " '$ ls',\n",
       " '148058 clnvqg',\n",
       " '185720 svc.wch',\n",
       " '$ cd ..',\n",
       " '$ cd dptjfd',\n",
       " '$ ls',\n",
       " '101663 cdfj',\n",
       " '80244 clnvqg.qzn',\n",
       " '98435 jrsmdsjv.dft',\n",
       " 'dir nhjthr',\n",
       " '$ cd nhjthr',\n",
       " '$ ls',\n",
       " '105069 fnvztg.pwp',\n",
       " 'dir pmgzdp',\n",
       " 'dir qgvzbclg',\n",
       " '$ cd pmgzdp',\n",
       " '$ ls',\n",
       " '94671 pdbtbmf',\n",
       " '$ cd ..',\n",
       " '$ cd qgvzbclg',\n",
       " '$ ls',\n",
       " '183904 pdbtbmf',\n",
       " '$ cd ..',\n",
       " '$ cd ..',\n",
       " '$ cd ..',\n",
       " '$ cd hqncdcdh',\n",
       " '$ ls',\n",
       " '105956 cwdsppc.hnn',\n",
       " '91439 pdbtbmf',\n",
       " '21314 wshwhzw.dcn',\n",
       " '$ cd ..',\n",
       " '$ cd ..',\n",
       " '$ cd ..',\n",
       " '$ cd rlj',\n",
       " '$ ls',\n",
       " '173111 clnvqg',\n",
       " 'dir gsfzgvpz',\n",
       " 'dir ljwrdb',\n",
       " '102231 pdbtbmf',\n",
       " '$ cd gsfzgvpz',\n",
       " '$ ls',\n",
       " '266749 bcdrtwzd.nrz',\n",
       " '$ cd ..',\n",
       " '$ cd ljwrdb',\n",
       " '$ ls',\n",
       " 'dir dlmhm',\n",
       " 'dir mpmtj',\n",
       " '$ cd dlmhm',\n",
       " '$ ls',\n",
       " '50087 ttntt.rdv',\n",
       " '$ cd ..',\n",
       " '$ cd mpmtj',\n",
       " '$ ls',\n",
       " '254330 czh',\n",
       " '$ cd ..',\n",
       " '$ cd ..',\n",
       " '$ cd ..',\n",
       " '$ cd svc',\n",
       " '$ ls',\n",
       " '131211 pdbtbmf',\n",
       " '214730 tgpprcnb.dfv',\n",
       " '$ cd ..',\n",
       " '$ cd wshwhzw',\n",
       " '$ ls',\n",
       " '225058 cppwqrg',\n",
       " 'dir hrzsfhct',\n",
       " '228371 tzvn.hhj',\n",
       " 'dir vjjgrt',\n",
       " '$ cd hrzsfhct',\n",
       " '$ ls',\n",
       " 'dir pqvlqpdt',\n",
       " '139531 pvlhtz.grj',\n",
       " '$ cd pqvlqpdt',\n",
       " '$ ls',\n",
       " '211827 hwnlsv.hhq',\n",
       " '$ cd ..',\n",
       " '$ cd ..',\n",
       " '$ cd vjjgrt',\n",
       " '$ ls',\n",
       " 'dir hdlcnfm',\n",
       " '266998 npp.vjv',\n",
       " '259189 qndrvvqv',\n",
       " '$ cd hdlcnfm',\n",
       " '$ ls',\n",
       " 'dir snhftjr',\n",
       " '$ cd snhftjr',\n",
       " '$ ls',\n",
       " '198904 svc.wwb',\n",
       " '$ cd ..',\n",
       " '$ cd ..',\n",
       " '$ cd ..',\n",
       " '$ cd ..',\n",
       " '$ cd zhczqq',\n",
       " '$ ls',\n",
       " 'dir brhvclj',\n",
       " '$ cd brhvclj',\n",
       " '$ ls',\n",
       " '123699 ttntt.cds',\n",
       " '$ cd ..',\n",
       " '$ cd ..',\n",
       " '$ cd ..',\n",
       " '$ cd brhvclj',\n",
       " '$ ls',\n",
       " 'dir dvqszvl',\n",
       " 'dir ttr',\n",
       " '$ cd dvqszvl',\n",
       " '$ ls',\n",
       " '172068 jjfrh.ttr',\n",
       " '$ cd ..',\n",
       " '$ cd ttr',\n",
       " '$ ls',\n",
       " 'dir rzsqqhn',\n",
       " '$ cd rzsqqhn',\n",
       " '$ ls',\n",
       " '129077 cbpg',\n",
       " 'dir clnvqg',\n",
       " '12120 jjfrh.ttr',\n",
       " '211464 npp.vjv',\n",
       " '12541 qgl.tvn',\n",
       " '136465 snbrwg.cpg',\n",
       " '$ cd clnvqg',\n",
       " '$ ls',\n",
       " '263592 cdfj',\n",
       " '249813 pdbtbmf',\n",
       " '190382 vpzfll.wqw',\n",
       " 'dir wshwhzw',\n",
       " '$ cd wshwhzw',\n",
       " '$ ls',\n",
       " '57060 cdfj',\n",
       " '$ cd ..',\n",
       " '$ cd ..',\n",
       " '$ cd ..',\n",
       " '$ cd ..',\n",
       " '$ cd ..',\n",
       " '$ cd svc',\n",
       " '$ ls',\n",
       " 'dir clnqz',\n",
       " 'dir ggrwpjjg',\n",
       " 'dir mjvm',\n",
       " '217220 ngntgnrw.brd',\n",
       " 'dir svc',\n",
       " '146817 wshwhzw',\n",
       " 'dir zmchn',\n",
       " '$ cd clnqz',\n",
       " '$ ls',\n",
       " '108229 clnvqg',\n",
       " '195990 svc',\n",
       " '29403 swf',\n",
       " '$ cd ..',\n",
       " '$ cd ggrwpjjg',\n",
       " '$ ls',\n",
       " 'dir gdftglf',\n",
       " '142336 hpdm.ctv',\n",
       " '190941 npp.vjv',\n",
       " '$ cd gdftglf',\n",
       " '$ ls',\n",
       " '209357 csfsthp.cnc',\n",
       " '30622 rjs',\n",
       " 'dir ttntt',\n",
       " '15836 wvqc.zsz',\n",
       " '$ cd ttntt',\n",
       " '$ ls',\n",
       " '224617 rvsvs.dfh',\n",
       " '$ cd ..',\n",
       " '$ cd ..',\n",
       " '$ cd ..',\n",
       " '$ cd mjvm',\n",
       " '$ ls',\n",
       " 'dir ctlddnj',\n",
       " 'dir ddwg',\n",
       " '207564 ncls.nwh',\n",
       " '139671 npp.vjv',\n",
       " '212692 wbqnvn.qhq',\n",
       " '$ cd ctlddnj',\n",
       " '$ ls',\n",
       " '254493 dzr.dfv',\n",
       " '123026 fmbzjww',\n",
       " '79075 svc',\n",
       " '43782 svc.vnw',\n",
       " 'dir vgqf',\n",
       " '258169 vtljbndt.tvc',\n",
       " '$ cd vgqf',\n",
       " '$ ls',\n",
       " '277076 dhqhfb',\n",
       " 'dir ffqg',\n",
       " 'dir svc',\n",
       " '$ cd ffqg',\n",
       " '$ ls',\n",
       " 'dir nrd',\n",
       " '$ cd nrd',\n",
       " '$ ls',\n",
       " '205734 vrwph.bgp',\n",
       " '$ cd ..',\n",
       " '$ cd ..',\n",
       " '$ cd svc',\n",
       " '$ ls',\n",
       " 'dir brhvclj',\n",
       " '111819 hpdm.ctv',\n",
       " '68407 nglt',\n",
       " '168768 ttntt',\n",
       " '$ cd brhvclj',\n",
       " '$ ls',\n",
       " '75177 hvppncbd.sgs',\n",
       " '$ cd ..',\n",
       " '$ cd ..',\n",
       " '$ cd ..',\n",
       " '$ cd ..',\n",
       " '$ cd ddwg',\n",
       " '$ ls',\n",
       " '21210 phwqwshr',\n",
       " '207062 rftdb.mcq',\n",
       " 'dir tthrf',\n",
       " '$ cd tthrf',\n",
       " '$ ls',\n",
       " 'dir czjnvnn',\n",
       " '236764 dhhw.mbs',\n",
       " '25583 ljdwgwhm.fbm',\n",
       " 'dir lrgtg',\n",
       " '113563 srsh.fpb',\n",
       " 'dir vzhpqb',\n",
       " '110004 zgcvsc.pmm',\n",
       " '$ cd czjnvnn',\n",
       " '$ ls',\n",
       " '143802 cbqmvtw.zjv',\n",
       " '37329 svc.rwf',\n",
       " '$ cd ..',\n",
       " '$ cd lrgtg',\n",
       " '$ ls',\n",
       " 'dir gpwpc',\n",
       " '$ cd gpwpc',\n",
       " '$ ls',\n",
       " '257389 jjfrh.ttr',\n",
       " '$ cd ..',\n",
       " '$ cd ..',\n",
       " '$ cd vzhpqb',\n",
       " '$ ls',\n",
       " '95696 clnvqg',\n",
       " '218063 clnvqg.qtd',\n",
       " 'dir hnqqrdf',\n",
       " 'dir ttntt',\n",
       " '$ cd hnqqrdf',\n",
       " '$ ls',\n",
       " 'dir brhvclj',\n",
       " '$ cd brhvclj',\n",
       " '$ ls',\n",
       " 'dir ttntt',\n",
       " '$ cd ttntt',\n",
       " '$ ls',\n",
       " '40453 npp.vjv',\n",
       " '$ cd ..',\n",
       " '$ cd ..',\n",
       " '$ cd ..',\n",
       " '$ cd ttntt',\n",
       " '$ ls',\n",
       " '30351 clnvqg.fwm',\n",
       " '60519 pdbtbmf',\n",
       " 'dir pfhrgj',\n",
       " '247371 qcvs.rbj',\n",
       " '155276 qdjqgqqw',\n",
       " '$ cd pfhrgj',\n",
       " '$ ls',\n",
       " '41975 svc.fwm',\n",
       " '$ cd ..',\n",
       " '$ cd ..',\n",
       " '$ cd ..',\n",
       " '$ cd ..',\n",
       " '$ cd ..',\n",
       " '$ cd ..',\n",
       " '$ cd svc',\n",
       " '$ ls',\n",
       " '110021 jftcvbl.lhh',\n",
       " '$ cd ..',\n",
       " '$ cd zmchn',\n",
       " '$ ls',\n",
       " '188817 brhvclj.zcq',\n",
       " 'dir ddzjr',\n",
       " 'dir fnmhc',\n",
       " 'dir tbhwr',\n",
       " 'dir vbtmfp',\n",
       " 'dir zrzrjm',\n",
       " '$ cd ddzjr',\n",
       " '$ ls',\n",
       " '217591 clnvqg.css',\n",
       " 'dir ttntt',\n",
       " 'dir wshwhzw',\n",
       " '$ cd ttntt',\n",
       " '$ ls',\n",
       " 'dir bscqn',\n",
       " '132748 svc.pbh',\n",
       " '$ cd bscqn',\n",
       " '$ ls',\n",
       " '25049 tlcwbbng.spf',\n",
       " '$ cd ..',\n",
       " '$ cd ..',\n",
       " '$ cd wshwhzw',\n",
       " '$ ls',\n",
       " '164106 brhvclj',\n",
       " '193910 chnrbb',\n",
       " 'dir njsnwmrc',\n",
       " 'dir nnhcsb',\n",
       " '195858 qrrt.pmp',\n",
       " '43854 ttntt',\n",
       " '90698 vdvfdgcl.mpr',\n",
       " '$ cd njsnwmrc',\n",
       " '$ ls',\n",
       " '273188 hpdm.ctv',\n",
       " '261368 wzpzjgw',\n",
       " '$ cd ..',\n",
       " '$ cd nnhcsb',\n",
       " '$ ls',\n",
       " 'dir dmnmcgr',\n",
       " '67701 pdbtbmf',\n",
       " '145277 ptlqcl.sgt',\n",
       " 'dir pwrjt',\n",
       " '13031 svc.jbb',\n",
       " '263232 svc.mvh',\n",
       " '91724 vggpwj',\n",
       " '$ cd dmnmcgr',\n",
       " '$ ls',\n",
       " '43175 szbcvp',\n",
       " '109544 vjqjzp',\n",
       " '$ cd ..',\n",
       " '$ cd pwrjt',\n",
       " '$ ls',\n",
       " 'dir ffqfqvjv',\n",
       " 'dir svc',\n",
       " '$ cd ffqfqvjv',\n",
       " '$ ls',\n",
       " '102537 bgmgwt.gmg',\n",
       " '$ cd ..',\n",
       " '$ cd svc',\n",
       " '$ ls',\n",
       " '177913 jswrfjvp.vgc',\n",
       " '145714 npp.vjv',\n",
       " '272487 zzsl',\n",
       " '$ cd ..',\n",
       " '$ cd ..',\n",
       " '$ cd ..',\n",
       " '$ cd ..',\n",
       " '$ cd ..',\n",
       " '$ cd fnmhc',\n",
       " '$ ls',\n",
       " 'dir dhhwdbb',\n",
       " 'dir ttntt',\n",
       " 'dir wshwhzw',\n",
       " '$ cd dhhwdbb',\n",
       " '$ ls',\n",
       " '201253 zpvv',\n",
       " '$ cd ..',\n",
       " '$ cd ttntt',\n",
       " '$ ls',\n",
       " 'dir brhvclj',\n",
       " '40561 chb.fbh',\n",
       " '159663 gzwrtwtd',\n",
       " '119970 wwz.rft',\n",
       " '$ cd brhvclj',\n",
       " '$ ls',\n",
       " '19488 gwtvbzph',\n",
       " '98427 hpdm.ctv',\n",
       " '8547 swncltj.sbn',\n",
       " '54698 wshwhzw.fmj',\n",
       " 'dir ztlvdwq',\n",
       " '$ cd ztlvdwq',\n",
       " '$ ls',\n",
       " '259702 cdfj',\n",
       " '230030 mbz.ttq',\n",
       " '$ cd ..',\n",
       " '$ cd ..',\n",
       " '$ cd ..',\n",
       " '$ cd wshwhzw',\n",
       " '$ ls',\n",
       " 'dir clnvqg',\n",
       " 'dir gwcsprqv',\n",
       " '259902 hmrb.njt',\n",
       " '125791 pdbtbmf',\n",
       " 'dir spffhcnz',\n",
       " '268942 srwjphc.lbp',\n",
       " 'dir wshwhzw',\n",
       " '$ cd clnvqg',\n",
       " '$ ls',\n",
       " '208408 hdwf.ppm',\n",
       " '163498 npp.vjv',\n",
       " '$ cd ..',\n",
       " '$ cd gwcsprqv',\n",
       " '$ ls',\n",
       " '135381 hpdm.ctv',\n",
       " '150197 jjfrh.ttr',\n",
       " '61236 lwjhqc',\n",
       " '150026 tgwjwdwj',\n",
       " 'dir wshwhzw',\n",
       " '$ cd wshwhzw',\n",
       " '$ ls',\n",
       " '51089 wshwhzw.qtb',\n",
       " '$ cd ..',\n",
       " '$ cd ..',\n",
       " '$ cd spffhcnz',\n",
       " '$ ls',\n",
       " '79855 bmrcdm',\n",
       " 'dir clnvqg',\n",
       " '180748 jjfrh.ttr',\n",
       " '122314 pdbtbmf',\n",
       " '85765 tbpsjv.tfw',\n",
       " '$ cd clnvqg',\n",
       " '$ ls',\n",
       " 'dir nvjj',\n",
       " 'dir tqr',\n",
       " '$ cd nvjj',\n",
       " '$ ls',\n",
       " 'dir gqhqmlhm',\n",
       " 'dir mbfftpbj',\n",
       " '$ cd gqhqmlhm',\n",
       " '$ ls',\n",
       " '211887 brhvclj',\n",
       " '$ cd ..',\n",
       " '$ cd mbfftpbj',\n",
       " '$ ls',\n",
       " '60539 clnvqg.gqw',\n",
       " '$ cd ..',\n",
       " '$ cd ..',\n",
       " '$ cd tqr',\n",
       " '$ ls',\n",
       " 'dir fvdch',\n",
       " '$ cd fvdch',\n",
       " '$ ls',\n",
       " '124864 svc',\n",
       " '$ cd ..',\n",
       " '$ cd ..',\n",
       " '$ cd ..',\n",
       " '$ cd ..',\n",
       " '$ cd wshwhzw',\n",
       " '$ ls',\n",
       " 'dir jrzmrg',\n",
       " '103956 npp.vjv',\n",
       " '126932 zvwpmnqh.zmh',\n",
       " '$ cd jrzmrg',\n",
       " '$ ls',\n",
       " 'dir svc',\n",
       " '$ cd svc',\n",
       " '$ ls',\n",
       " '143992 jhcvmjp.flt',\n",
       " '$ cd ..',\n",
       " '$ cd ..',\n",
       " '$ cd ..',\n",
       " '$ cd ..',\n",
       " '$ cd ..',\n",
       " '$ cd tbhwr',\n",
       " '$ ls',\n",
       " '42758 jjfrh.ttr',\n",
       " '$ cd ..',\n",
       " '$ cd vbtmfp',\n",
       " '$ ls',\n",
       " '171021 npp.vjv',\n",
       " '$ cd ..',\n",
       " '$ cd zrzrjm',\n",
       " '$ ls',\n",
       " 'dir brhvclj',\n",
       " '201331 cgtqdtqq.gsc',\n",
       " '206771 clnvqg.zpr',\n",
       " '55754 jgprc',\n",
       " 'dir jrww',\n",
       " 'dir sqtzndzg',\n",
       " '$ cd brhvclj',\n",
       " '$ ls',\n",
       " '190144 brhvclj',\n",
       " '198432 rvbqglv.gzg',\n",
       " '$ cd ..',\n",
       " '$ cd jrww',\n",
       " '$ ls',\n",
       " '110574 clnvqg',\n",
       " '$ cd ..',\n",
       " '$ cd sqtzndzg',\n",
       " '$ ls',\n",
       " '189854 clnvqg.qbc',\n",
       " '260937 ldm',\n",
       " '$ cd ..',\n",
       " '$ cd ..',\n",
       " '$ cd ..',\n",
       " '$ cd ..',\n",
       " '$ cd ..',\n",
       " '$ cd mzmqr',\n",
       " '$ ls',\n",
       " '117135 dfws',\n",
       " '98546 jjfrh.ttr',\n",
       " 'dir jptq',\n",
       " 'dir sctfsvs',\n",
       " 'dir svc',\n",
       " 'dir swsjjr',\n",
       " 'dir tstct',\n",
       " '86793 vhfcwbv.wfq',\n",
       " '$ cd jptq',\n",
       " '$ ls',\n",
       " 'dir brhvclj',\n",
       " '52040 cnmb',\n",
       " 'dir fvqh',\n",
       " '240539 rrdsr',\n",
       " 'dir tczvhsgn',\n",
       " 'dir zbbq',\n",
       " '$ cd brhvclj',\n",
       " '$ ls',\n",
       " '254250 vtgsqs',\n",
       " '$ cd ..',\n",
       " '$ cd fvqh',\n",
       " '$ ls',\n",
       " '18471 hpdm.ctv',\n",
       " '$ cd ..',\n",
       " '$ cd tczvhsgn',\n",
       " '$ ls',\n",
       " '241619 wshwhzw.cmh',\n",
       " '$ cd ..',\n",
       " '$ cd zbbq',\n",
       " '$ ls',\n",
       " '82844 vtjbg.svl',\n",
       " '$ cd ..',\n",
       " '$ cd ..',\n",
       " '$ cd sctfsvs',\n",
       " '$ ls',\n",
       " 'dir nbjljt',\n",
       " 'dir rszwnh',\n",
       " '56137 stcmw.wwr',\n",
       " '$ cd nbjljt',\n",
       " '$ ls',\n",
       " '214471 fst.pwm',\n",
       " '$ cd ..',\n",
       " '$ cd rszwnh',\n",
       " '$ ls',\n",
       " 'dir brhvclj',\n",
       " 'dir ldrsbj',\n",
       " '280840 pzs',\n",
       " '274286 vpsnwfvc.bqg',\n",
       " '$ cd brhvclj',\n",
       " '$ ls',\n",
       " '60019 fwbgt.rmb',\n",
       " '$ cd ..',\n",
       " '$ cd ldrsbj',\n",
       " '$ ls',\n",
       " '23175 jjfrh.ttr',\n",
       " '120171 lpb',\n",
       " '$ cd ..',\n",
       " '$ cd ..',\n",
       " '$ cd ..',\n",
       " '$ cd svc',\n",
       " '$ ls',\n",
       " 'dir rpgm',\n",
       " '$ cd rpgm',\n",
       " '$ ls',\n",
       " '205836 ttntt',\n",
       " '$ cd ..',\n",
       " '$ cd ..',\n",
       " '$ cd swsjjr',\n",
       " '$ ls',\n",
       " '100874 cdfj',\n",
       " '229131 dcdm.jcz',\n",
       " '18144 mspnwqmw.bpc',\n",
       " '$ cd ..',\n",
       " '$ cd tstct',\n",
       " '$ ls',\n",
       " '94293 clnvqg',\n",
       " '110519 hpdm.ctv',\n",
       " '$ cd ..',\n",
       " '$ cd ..',\n",
       " '$ cd rtmg',\n",
       " '$ ls',\n",
       " 'dir clnvqg',\n",
       " '260745 gvmlqpbs.mqm',\n",
       " 'dir ldcwjlm',\n",
       " '192472 ttntt.gnf',\n",
       " '$ cd clnvqg',\n",
       " '$ ls',\n",
       " '121970 zsmwvt.sbw',\n",
       " '$ cd ..',\n",
       " '$ cd ldcwjlm',\n",
       " '$ ls',\n",
       " '254060 hpdm.ctv',\n",
       " '225558 svc.cmz',\n",
       " '229614 wshwhzw.dzn',\n",
       " '$ cd ..',\n",
       " '$ cd ..',\n",
       " '$ cd tqnmwdl',\n",
       " '$ ls',\n",
       " '50489 cdfj',\n",
       " 'dir gltsgnf',\n",
       " '265020 hqnjnt.gtc',\n",
       " 'dir psltbtl',\n",
       " '$ cd gltsgnf',\n",
       " '$ ls',\n",
       " 'dir ttntt',\n",
       " 'dir wgwvd',\n",
       " '$ cd ttntt',\n",
       " '$ ls',\n",
       " '120262 zvjh.mzl',\n",
       " '$ cd ..',\n",
       " '$ cd wgwvd',\n",
       " '$ ls',\n",
       " '172875 flt.jbn',\n",
       " '173182 pdbtbmf',\n",
       " '$ cd ..',\n",
       " '$ cd ..',\n",
       " '$ cd psltbtl',\n",
       " '$ ls',\n",
       " 'dir sgqvlr',\n",
       " '88647 svc.jnw',\n",
       " '208354 svc.jzb',\n",
       " '98962 zsld.hjs',\n",
       " '$ cd sgqvlr',\n",
       " '$ ls',\n",
       " '151451 brhvclj.thj',\n",
       " '213287 pdbtbmf',\n",
       " '$ cd ..',\n",
       " '$ cd ..',\n",
       " '$ cd ..',\n",
       " '$ cd ..',\n",
       " '$ cd dtqtvvrn',\n",
       " '$ ls',\n",
       " '253546 ttntt.dtl',\n",
       " ...]"
      ]
     },
     "execution_count": 53,
     "metadata": {},
     "output_type": "execute_result"
    }
   ],
   "source": [
    "data"
   ]
  },
  {
   "cell_type": "code",
   "execution_count": 23,
   "id": "39aaff68",
   "metadata": {
    "hidden": true,
    "scrolled": true
   },
   "outputs": [
    {
     "data": {
      "text/plain": [
       "['$ cd /',\n",
       " '$ ls',\n",
       " 'dir brhvclj',\n",
       " 'dir clnvqg',\n",
       " 'dir dtqtvvrn',\n",
       " 'dir lcz',\n",
       " 'dir pcqjncwl',\n",
       " 'dir qwvfpgl',\n",
       " 'dir rtmj',\n",
       " 'dir shg',\n",
       " 'dir tcdmgwp',\n",
       " '$ cd brhvclj']"
      ]
     },
     "execution_count": 23,
     "metadata": {},
     "output_type": "execute_result"
    }
   ],
   "source": [
    "data[:12]"
   ]
  },
  {
   "cell_type": "code",
   "execution_count": 59,
   "id": "de58c6a4",
   "metadata": {
    "hidden": true,
    "scrolled": false
   },
   "outputs": [
    {
     "data": {
      "text/plain": [
       "['brhvclj',\n",
       " 'clnvqg',\n",
       " 'dtqtvvrn',\n",
       " 'lcz',\n",
       " 'pcqjncwl',\n",
       " 'qwvfpgl',\n",
       " 'rtmj',\n",
       " 'shg',\n",
       " 'tcdmgwp']"
      ]
     },
     "execution_count": 59,
     "metadata": {},
     "output_type": "execute_result"
    }
   ],
   "source": [
    "#root_directories = {data[i].split(' ')[1]:{} for i in range(2,11)}\n",
    "root_directories = [i.split(' ')[1] for i in data[2:11]]\n",
    "root_directories"
   ]
  },
  {
   "cell_type": "code",
   "execution_count": 52,
   "id": "b35d1a35",
   "metadata": {
    "hidden": true
   },
   "outputs": [
    {
     "data": {
      "text/plain": [
       "['$ cd brhvclj',\n",
       " '$ ls',\n",
       " '40016 mtlscfrd.gdr',\n",
       " 'dir mvslzl',\n",
       " '112449 npp.vjv',\n",
       " '46674 pbgjwb',\n",
       " 'dir qdtls',\n",
       " 'dir tfns',\n",
       " '$ cd mvslzl',\n",
       " '$ ls']"
      ]
     },
     "execution_count": 52,
     "metadata": {},
     "output_type": "execute_result"
    }
   ],
   "source": [
    "rest = data[11:]\n",
    "rest[:10]"
   ]
  },
  {
   "cell_type": "code",
   "execution_count": 57,
   "id": "6142eda1",
   "metadata": {
    "hidden": true
   },
   "outputs": [
    {
     "data": {
      "text/plain": [
       "['dir brhvclj',\n",
       " 'dir clnvqg',\n",
       " 'dir dtqtvvrn',\n",
       " 'dir lcz',\n",
       " 'dir pcqjncwl',\n",
       " 'dir qwvfpgl',\n",
       " 'dir rtmj',\n",
       " 'dir shg',\n",
       " 'dir tcdmgwp']"
      ]
     },
     "execution_count": 57,
     "metadata": {},
     "output_type": "execute_result"
    }
   ],
   "source": [
    "rest[0].split(' ')[2]\n",
    "root_directories"
   ]
  },
  {
   "cell_type": "code",
   "execution_count": null,
   "id": "b317022e",
   "metadata": {
    "hidden": true
   },
   "outputs": [],
   "source": [
    "for i in rest:\n",
    "    current_instruction = i.split(' ')\n",
    "    if current_instruction[0] == '$':\n",
    "        if current_inst[1] == 'cd':\n",
    "            if current_inst[2] == '..':\n",
    "                pass\n",
    "            else:\n",
    "                dictpath = root_directories[current_inst[2]]\n",
    "#         if current_inst[1] == 'ls':\n",
    "#             continue\n",
    "    if current_inst[0] == 'dir':\n",
    "        dictpath[current_inst[1]] = {}\n",
    "    else: int(current_inst[0])"
   ]
  },
  {
   "cell_type": "code",
   "execution_count": null,
   "id": "2c54eb88",
   "metadata": {
    "hidden": true
   },
   "outputs": [],
   "source": []
  },
  {
   "cell_type": "code",
   "execution_count": null,
   "id": "98545a07",
   "metadata": {
    "hidden": true
   },
   "outputs": [],
   "source": []
  },
  {
   "cell_type": "code",
   "execution_count": null,
   "id": "6c62185a",
   "metadata": {
    "hidden": true
   },
   "outputs": [],
   "source": []
  },
  {
   "cell_type": "code",
   "execution_count": null,
   "id": "cd225c92",
   "metadata": {
    "hidden": true
   },
   "outputs": [],
   "source": []
  },
  {
   "cell_type": "code",
   "execution_count": 49,
   "id": "bb8244e4",
   "metadata": {
    "hidden": true,
    "scrolled": false
   },
   "outputs": [
    {
     "data": {
      "text/plain": [
       "{'brhvclj': {'test': '1'},\n",
       " 'clnvqg': {},\n",
       " 'dtqtvvrn': {},\n",
       " 'lcz': {},\n",
       " 'pcqjncwl': {},\n",
       " 'qwvfpgl': {},\n",
       " 'rtmj': {},\n",
       " 'shg': {},\n",
       " 'tcdmgwp': {}}"
      ]
     },
     "execution_count": 49,
     "metadata": {},
     "output_type": "execute_result"
    }
   ],
   "source": [
    "root_directories[rest[0].split(' ')[2]]['test'] = '1'\n",
    "root_directories"
   ]
  },
  {
   "cell_type": "code",
   "execution_count": 31,
   "id": "4ae6b790",
   "metadata": {
    "hidden": true
   },
   "outputs": [
    {
     "name": "stdout",
     "output_type": "stream",
     "text": [
      "{}\n"
     ]
    }
   ],
   "source": [
    "for i in rest:\n",
    "    current_inst = i.split(' ')\n",
    "    if current_inst[0] == '$':\n",
    "        if current_inst[1] == 'cd':\n",
    "            if current_inst[2] == '..':\n",
    "                pass\n",
    "            else:\n",
    "                dictpath = root_directories[current_inst[2]]\n",
    "#         if current_inst[1] == 'ls':\n",
    "#             continue\n",
    "    if current_inst[0] == 'dir':\n",
    "        dictpath[current_inst[1]] = {}\n",
    "    else: int(current_inst[0])\n",
    "    "
   ]
  },
  {
   "cell_type": "code",
   "execution_count": 11,
   "id": "bcbc5871",
   "metadata": {
    "hidden": true
   },
   "outputs": [],
   "source": [
    "import re"
   ]
  },
  {
   "cell_type": "code",
   "execution_count": 15,
   "id": "d0c81343",
   "metadata": {
    "hidden": true
   },
   "outputs": [
    {
     "data": {
      "text/plain": [
       "42143088"
      ]
     },
     "execution_count": 15,
     "metadata": {},
     "output_type": "execute_result"
    }
   ],
   "source": [
    "regexdata = ' '.join(data)\n",
    "total_size = re.findall(r'(\\d+)', regexdata)\n",
    "total_size = [int(i) for i in total_size]\n",
    "total_size = sum(total_size)\n",
    "total_size"
   ]
  },
  {
   "cell_type": "markdown",
   "id": "fc5ac37e",
   "metadata": {},
   "source": [
    "# Day 8"
   ]
  },
  {
   "cell_type": "code",
   "execution_count": 37,
   "id": "6eef9407",
   "metadata": {},
   "outputs": [],
   "source": [
    "data = open('day8', 'r').read().split('\\n')"
   ]
  },
  {
   "cell_type": "code",
   "execution_count": 4,
   "id": "8c7bec4f",
   "metadata": {},
   "outputs": [],
   "source": [
    "import numpy as np"
   ]
  },
  {
   "cell_type": "code",
   "execution_count": 38,
   "id": "dcdf36eb",
   "metadata": {},
   "outputs": [],
   "source": [
    "data = [[j for j in i] for i in data]\n",
    "data = np.array(data)"
   ]
  },
  {
   "cell_type": "code",
   "execution_count": 43,
   "id": "8a888b21",
   "metadata": {},
   "outputs": [
    {
     "data": {
      "text/plain": [
       "array(['1', '2', '1', '2', '0', '0', '2', '0', '0', '3', '2', '2', '2',\n",
       "       '2', '0', '0', '2', '2', '4', '2', '1', '2', '1', '4', '0', '0',\n",
       "       '3', '0', '2', '3', '0', '1', '3', '4', '4', '1', '4', '1', '2',\n",
       "       '1', '1', '3', '1', '3', '4', '5', '1', '3', '4', '3', '1', '2',\n",
       "       '4', '2', '2', '1', '5', '2', '4', '3', '2', '4', '5', '2', '4',\n",
       "       '1', '2', '2', '3', '1', '1', '1', '1', '0', '0', '2', '3', '1',\n",
       "       '4', '4', '1', '3', '3', '3', '0', '1', '0', '1', '1', '0', '3',\n",
       "       '2', '3', '1', '1', '0', '1', '1', '0'], dtype='<U1')"
      ]
     },
     "execution_count": 43,
     "metadata": {},
     "output_type": "execute_result"
    }
   ],
   "source": [
    "data[-1]"
   ]
  },
  {
   "cell_type": "code",
   "execution_count": 48,
   "id": "6cf2f1ac",
   "metadata": {},
   "outputs": [],
   "source": [
    "center_trees = data[1:-1,1:-1]"
   ]
  },
  {
   "cell_type": "code",
   "execution_count": 41,
   "id": "d5480cf5",
   "metadata": {
    "scrolled": false
   },
   "outputs": [
    {
     "data": {
      "text/plain": [
       "array(['1', '1', '0', '2', '2', '0', '2', '0', '0', '3', '1', '1', '3',\n",
       "       '2', '2', '2', '0', '0', '1', '1', '1', '1', '3', '2', '0', '1',\n",
       "       '0', '3', '1', '0', '2', '1', '0', '4', '0', '2', '4', '1', '3',\n",
       "       '4', '1', '4', '0', '4', '1', '5', '3', '3', '2', '4', '5', '4',\n",
       "       '3', '4', '3', '3', '5', '3', '0', '1', '3', '2', '0', '0', '0',\n",
       "       '4', '1', '3', '0', '1', '3', '3', '0', '1', '2', '3', '2', '0',\n",
       "       '3', '2', '2', '3', '0', '3', '0', '3', '0', '0', '1', '3', '0',\n",
       "       '0', '0', '2', '1', '0', '1', '1', '1'], dtype='<U1')"
      ]
     },
     "execution_count": 41,
     "metadata": {},
     "output_type": "execute_result"
    }
   ],
   "source": [
    "visible = 0\n",
    "for i in data"
   ]
  },
  {
   "cell_type": "code",
   "execution_count": 52,
   "id": "c91007a7",
   "metadata": {},
   "outputs": [],
   "source": [
    "test = [[3,0,3,7,3],\n",
    "        [2,5,5,1,2],\n",
    "        [6,5,3,3,2],\n",
    "        [3,3,5,4,9],\n",
    "        [3,5,3,9,0]]\n",
    "test = np.array(test)"
   ]
  },
  {
   "cell_type": "code",
   "execution_count": 73,
   "id": "2b69bd1b",
   "metadata": {},
   "outputs": [],
   "source": [
    "nbrr = len(test[:,1])\n",
    "nbrc = len(test[1,:])"
   ]
  },
  {
   "cell_type": "code",
   "execution_count": 86,
   "id": "95c96fdf",
   "metadata": {
    "scrolled": false
   },
   "outputs": [
    {
     "name": "stdout",
     "output_type": "stream",
     "text": [
      "0 0\n",
      "0 1\n",
      "0 2\n",
      "0 3\n",
      "0 4\n",
      "1 0\n",
      "1 4\n",
      "2 0\n",
      "2 4\n",
      "3 0\n",
      "3 4\n",
      "4 0\n",
      "4 1\n",
      "4 2\n",
      "4 3\n",
      "4 4\n"
     ]
    },
    {
     "data": {
      "text/plain": [
       "16"
      ]
     },
     "execution_count": 86,
     "metadata": {},
     "output_type": "execute_result"
    }
   ],
   "source": [
    "visible = 0\n",
    "for i in range(nbrr):\n",
    "    for j in range(nbrc):\n",
    "#         print(i,j)\n",
    "        if i == 0 or i == nbrr-1 or j == 0 or j == nbrc-1:\n",
    "            print(i,j)\n",
    "            visible += 1\n",
    "        if i > 0 and i < nbrr and j > 0 and j < nbrc:\n",
    "            tempi = i\n",
    "            tempj = j\n",
    "            \n",
    "#         if i > 0 and i < nbrr and j > 0 and j < nbrc:\n",
    "#             if \n",
    "visible"
   ]
  },
  {
   "cell_type": "code",
   "execution_count": null,
   "id": "7dfe6c27",
   "metadata": {},
   "outputs": [],
   "source": []
  },
  {
   "cell_type": "code",
   "execution_count": null,
   "id": "832a46b5",
   "metadata": {},
   "outputs": [],
   "source": []
  },
  {
   "cell_type": "code",
   "execution_count": null,
   "id": "b061fa8c",
   "metadata": {},
   "outputs": [],
   "source": []
  },
  {
   "cell_type": "code",
   "execution_count": null,
   "id": "8ecbd306",
   "metadata": {},
   "outputs": [],
   "source": []
  },
  {
   "cell_type": "code",
   "execution_count": null,
   "id": "308e9ae1",
   "metadata": {},
   "outputs": [],
   "source": []
  },
  {
   "cell_type": "code",
   "execution_count": null,
   "id": "9098dbbc",
   "metadata": {},
   "outputs": [],
   "source": []
  },
  {
   "cell_type": "code",
   "execution_count": null,
   "id": "22ae8d3b",
   "metadata": {},
   "outputs": [],
   "source": []
  },
  {
   "cell_type": "code",
   "execution_count": null,
   "id": "b5c7de17",
   "metadata": {},
   "outputs": [],
   "source": []
  },
  {
   "cell_type": "code",
   "execution_count": null,
   "id": "46ca78d8",
   "metadata": {},
   "outputs": [],
   "source": []
  },
  {
   "cell_type": "code",
   "execution_count": null,
   "id": "419e4307",
   "metadata": {},
   "outputs": [],
   "source": []
  },
  {
   "cell_type": "code",
   "execution_count": null,
   "id": "fa12fe2b",
   "metadata": {},
   "outputs": [],
   "source": []
  }
 ],
 "metadata": {
  "kernelspec": {
   "display_name": "Python 3 (ipykernel)",
   "language": "python",
   "name": "python3"
  },
  "language_info": {
   "codemirror_mode": {
    "name": "ipython",
    "version": 3
   },
   "file_extension": ".py",
   "mimetype": "text/x-python",
   "name": "python",
   "nbconvert_exporter": "python",
   "pygments_lexer": "ipython3",
   "version": "3.8.12"
  },
  "toc": {
   "base_numbering": 1,
   "nav_menu": {},
   "number_sections": true,
   "sideBar": true,
   "skip_h1_title": false,
   "title_cell": "Table of Contents",
   "title_sidebar": "Contents",
   "toc_cell": false,
   "toc_position": {
    "height": "calc(100% - 180px)",
    "left": "10px",
    "top": "150px",
    "width": "273.188px"
   },
   "toc_section_display": true,
   "toc_window_display": false
  }
 },
 "nbformat": 4,
 "nbformat_minor": 5
}
